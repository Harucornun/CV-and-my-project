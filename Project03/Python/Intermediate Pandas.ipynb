{
 "cells":[
  {
   "cell_type":"markdown",
   "source":[
    "# Intermediate Pandas1"
   ],
   "attachments":{
    
   },
   "metadata":{
    "datalore":{
     "node_id":"Intermediate Pandas1",
     "type":"MD",
     "hide_input_from_viewers":false,
     "hide_output_from_viewers":false,
     "sheet_delimiter":true
    }
   }
  },
  {
   "cell_type":"code",
   "source":[
    "import pandas as pd"
   ],
   "execution_count":1,
   "outputs":[
    
   ],
   "metadata":{
    "datalore":{
     "node_id":"zONxCzxCuoB3icUwPJP4rx",
     "type":"CODE",
     "hide_input_from_viewers":false,
     "hide_output_from_viewers":false,
     "report_properties":{
      "rowId":"wcwcqM0Rbc3JGV2giMLdI9",
      "relativeY":0
     }
    }
   }
  },
  {
   "cell_type":"code",
   "source":[
    "penguins = pd.read_csv(\"penguins.csv\")"
   ],
   "execution_count":2,
   "outputs":[
    
   ],
   "metadata":{
    "datalore":{
     "node_id":"nCbHjusOK1DMsnXMwwS8Jh",
     "type":"CODE",
     "hide_input_from_viewers":false,
     "hide_output_from_viewers":false,
     "report_properties":{
      "rowId":"wcwcqM0Rbc3JGV2giMLdI9",
      "relativeY":6
     }
    }
   }
  },
  {
   "cell_type":"code",
   "source":[
    "# preview first 5 rows\n",
    "penguins.head()"
   ],
   "execution_count":3,
   "outputs":[
    {
     "data":{
      "text\/html":[
       "<div>\n",
       "<style scoped>\n",
       "    .dataframe tbody tr th:only-of-type {\n",
       "        vertical-align: middle;\n",
       "    }\n",
       "\n",
       "    .dataframe tbody tr th {\n",
       "        vertical-align: top;\n",
       "    }\n",
       "\n",
       "    .dataframe thead th {\n",
       "        text-align: right;\n",
       "    }\n",
       "<\/style>\n",
       "<table border=\"1\" class=\"dataframe\">\n",
       "  <thead>\n",
       "    <tr style=\"text-align: right;\">\n",
       "      <th><\/th>\n",
       "      <th>species<\/th>\n",
       "      <th>island<\/th>\n",
       "      <th>bill_length_mm<\/th>\n",
       "      <th>bill_depth_mm<\/th>\n",
       "      <th>flipper_length_mm<\/th>\n",
       "      <th>body_mass_g<\/th>\n",
       "      <th>sex<\/th>\n",
       "    <\/tr>\n",
       "  <\/thead>\n",
       "  <tbody>\n",
       "    <tr>\n",
       "      <th>0<\/th>\n",
       "      <td>Adelie<\/td>\n",
       "      <td>Torgersen<\/td>\n",
       "      <td>39.1<\/td>\n",
       "      <td>18.7<\/td>\n",
       "      <td>181.0<\/td>\n",
       "      <td>3750.0<\/td>\n",
       "      <td>MALE<\/td>\n",
       "    <\/tr>\n",
       "    <tr>\n",
       "      <th>1<\/th>\n",
       "      <td>Adelie<\/td>\n",
       "      <td>Torgersen<\/td>\n",
       "      <td>39.5<\/td>\n",
       "      <td>17.4<\/td>\n",
       "      <td>186.0<\/td>\n",
       "      <td>3800.0<\/td>\n",
       "      <td>FEMALE<\/td>\n",
       "    <\/tr>\n",
       "    <tr>\n",
       "      <th>2<\/th>\n",
       "      <td>Adelie<\/td>\n",
       "      <td>Torgersen<\/td>\n",
       "      <td>40.3<\/td>\n",
       "      <td>18.0<\/td>\n",
       "      <td>195.0<\/td>\n",
       "      <td>3250.0<\/td>\n",
       "      <td>FEMALE<\/td>\n",
       "    <\/tr>\n",
       "    <tr>\n",
       "      <th>3<\/th>\n",
       "      <td>Adelie<\/td>\n",
       "      <td>Torgersen<\/td>\n",
       "      <td>NaN<\/td>\n",
       "      <td>NaN<\/td>\n",
       "      <td>NaN<\/td>\n",
       "      <td>NaN<\/td>\n",
       "      <td>NaN<\/td>\n",
       "    <\/tr>\n",
       "    <tr>\n",
       "      <th>4<\/th>\n",
       "      <td>Adelie<\/td>\n",
       "      <td>Torgersen<\/td>\n",
       "      <td>36.7<\/td>\n",
       "      <td>19.3<\/td>\n",
       "      <td>193.0<\/td>\n",
       "      <td>3450.0<\/td>\n",
       "      <td>FEMALE<\/td>\n",
       "    <\/tr>\n",
       "  <\/tbody>\n",
       "<\/table>\n",
       "<\/div>"
      ]
     },
     "metadata":{
      
     },
     "output_type":"display_data"
    }
   ],
   "metadata":{
    "datalore":{
     "node_id":"YFNzYSVZxgb5qRmj4baZCZ",
     "type":"CODE",
     "hide_input_from_viewers":false,
     "hide_output_from_viewers":false,
     "report_properties":{
      "rowId":"wcwcqM0Rbc3JGV2giMLdI9",
      "relativeY":12
     }
    }
   }
  },
  {
   "cell_type":"code",
   "source":[
    "# preview last 5 rows\n",
    "penguins.tail()"
   ],
   "execution_count":27,
   "outputs":[
    {
     "data":{
      "text\/html":[
       "<div>\n",
       "<style scoped>\n",
       "    .dataframe tbody tr th:only-of-type {\n",
       "        vertical-align: middle;\n",
       "    }\n",
       "\n",
       "    .dataframe tbody tr th {\n",
       "        vertical-align: top;\n",
       "    }\n",
       "\n",
       "    .dataframe thead th {\n",
       "        text-align: right;\n",
       "    }\n",
       "<\/style>\n",
       "<table border=\"1\" class=\"dataframe\">\n",
       "  <thead>\n",
       "    <tr style=\"text-align: right;\">\n",
       "      <th><\/th>\n",
       "      <th>species<\/th>\n",
       "      <th>island<\/th>\n",
       "      <th>bill_length_mm<\/th>\n",
       "      <th>bill_depth_mm<\/th>\n",
       "      <th>flipper_length_mm<\/th>\n",
       "      <th>body_mass_g<\/th>\n",
       "      <th>sex<\/th>\n",
       "    <\/tr>\n",
       "  <\/thead>\n",
       "  <tbody>\n",
       "    <tr>\n",
       "      <th>339<\/th>\n",
       "      <td>Gentoo<\/td>\n",
       "      <td>Biscoe<\/td>\n",
       "      <td>NaN<\/td>\n",
       "      <td>NaN<\/td>\n",
       "      <td>NaN<\/td>\n",
       "      <td>NaN<\/td>\n",
       "      <td>NaN<\/td>\n",
       "    <\/tr>\n",
       "    <tr>\n",
       "      <th>340<\/th>\n",
       "      <td>Gentoo<\/td>\n",
       "      <td>Biscoe<\/td>\n",
       "      <td>46.8<\/td>\n",
       "      <td>14.3<\/td>\n",
       "      <td>215.0<\/td>\n",
       "      <td>4850.0<\/td>\n",
       "      <td>FEMALE<\/td>\n",
       "    <\/tr>\n",
       "    <tr>\n",
       "      <th>341<\/th>\n",
       "      <td>Gentoo<\/td>\n",
       "      <td>Biscoe<\/td>\n",
       "      <td>50.4<\/td>\n",
       "      <td>15.7<\/td>\n",
       "      <td>222.0<\/td>\n",
       "      <td>5750.0<\/td>\n",
       "      <td>MALE<\/td>\n",
       "    <\/tr>\n",
       "    <tr>\n",
       "      <th>342<\/th>\n",
       "      <td>Gentoo<\/td>\n",
       "      <td>Biscoe<\/td>\n",
       "      <td>45.2<\/td>\n",
       "      <td>14.8<\/td>\n",
       "      <td>212.0<\/td>\n",
       "      <td>5200.0<\/td>\n",
       "      <td>FEMALE<\/td>\n",
       "    <\/tr>\n",
       "    <tr>\n",
       "      <th>343<\/th>\n",
       "      <td>Gentoo<\/td>\n",
       "      <td>Biscoe<\/td>\n",
       "      <td>49.9<\/td>\n",
       "      <td>16.1<\/td>\n",
       "      <td>213.0<\/td>\n",
       "      <td>5400.0<\/td>\n",
       "      <td>MALE<\/td>\n",
       "    <\/tr>\n",
       "  <\/tbody>\n",
       "<\/table>\n",
       "<\/div>"
      ]
     },
     "metadata":{
      
     },
     "output_type":"display_data"
    }
   ],
   "metadata":{
    "datalore":{
     "node_id":"bI0wSqI2jOoTHW0bFQWnIV",
     "type":"CODE",
     "hide_input_from_viewers":false,
     "hide_output_from_viewers":false,
     "report_properties":{
      "rowId":"9EJY440U49cZIArCNMm6Aa",
      "relativeY":0
     }
    }
   }
  },
  {
   "cell_type":"code",
   "source":[
    "# shape of Dataframe\n",
    "penguins.shape"
   ],
   "execution_count":28,
   "outputs":[
    {
     "data":{
      "text\/plain":[
       "(344, 7)"
      ]
     },
     "metadata":{
      
     },
     "output_type":"display_data"
    }
   ],
   "metadata":{
    "datalore":{
     "node_id":"3GkjmTncc7tbhai7NvsSRh",
     "type":"CODE",
     "hide_input_from_viewers":false,
     "hide_output_from_viewers":false,
     "report_properties":{
      "rowId":"tOzKX5wV9frSQ3VDFhvtI7",
      "relativeY":0
     }
    }
   }
  },
  {
   "cell_type":"code",
   "source":[
    "# information of dataframe\n",
    "penguins.info()"
   ],
   "execution_count":29,
   "outputs":[
    {
     "name":"stdout",
     "text":[
      "<class 'pandas.core.frame.DataFrame'>\n",
      "RangeIndex: 344 entries, 0 to 343\n",
      "Data columns (total 7 columns):\n",
      " #   Column             Non-Null Count  Dtype  \n",
      "---  ------             --------------  -----  \n",
      " 0   species            344 non-null    object \n",
      " 1   island             344 non-null    object \n",
      " 2   bill_length_mm     342 non-null    float64\n",
      " 3   bill_depth_mm      342 non-null    float64\n",
      " 4   flipper_length_mm  342 non-null    float64\n",
      " 5   body_mass_g        342 non-null    float64\n",
      " 6   sex                333 non-null    object \n",
      "dtypes: float64(4), object(3)\n",
      "memory usage: 18.9+ KB\n"
     ],
     "output_type":"stream"
    }
   ],
   "metadata":{
    "datalore":{
     "node_id":"7p3wdGH8x1u0RB2qckMeUw",
     "type":"CODE",
     "hide_input_from_viewers":false,
     "hide_output_from_viewers":false,
     "report_properties":{
      "rowId":"OC55W0WJJEZqlMm8tN7iRz",
      "relativeY":0
     }
    }
   }
  },
  {
   "cell_type":"code",
   "source":[
    "# select columns\n",
    "penguins['species']\n",
    "penguins.species.head()"
   ],
   "execution_count":30,
   "outputs":[
    {
     "data":{
      "text\/html":[
       "<pre>0    Adelie\n",
       "1    Adelie\n",
       "2    Adelie\n",
       "3    Adelie\n",
       "4    Adelie\n",
       "Name: species, dtype: object<\/pre>"
      ]
     },
     "metadata":{
      
     },
     "output_type":"display_data"
    }
   ],
   "metadata":{
    "datalore":{
     "node_id":"rZTdpA68BgCKrTqeYlRdXb",
     "type":"CODE",
     "hide_input_from_viewers":false,
     "hide_output_from_viewers":false,
     "report_properties":{
      "rowId":"tt0TwsTmXNkFAj1PPnyTyB",
      "relativeY":0
     }
    }
   }
  },
  {
   "cell_type":"code",
   "source":[
    "penguins[ [\"species\",\"island\",\"sex\"] ].head(10)"
   ],
   "execution_count":31,
   "outputs":[
    {
     "data":{
      "text\/html":[
       "<div>\n",
       "<style scoped>\n",
       "    .dataframe tbody tr th:only-of-type {\n",
       "        vertical-align: middle;\n",
       "    }\n",
       "\n",
       "    .dataframe tbody tr th {\n",
       "        vertical-align: top;\n",
       "    }\n",
       "\n",
       "    .dataframe thead th {\n",
       "        text-align: right;\n",
       "    }\n",
       "<\/style>\n",
       "<table border=\"1\" class=\"dataframe\">\n",
       "  <thead>\n",
       "    <tr style=\"text-align: right;\">\n",
       "      <th><\/th>\n",
       "      <th>species<\/th>\n",
       "      <th>island<\/th>\n",
       "      <th>sex<\/th>\n",
       "    <\/tr>\n",
       "  <\/thead>\n",
       "  <tbody>\n",
       "    <tr>\n",
       "      <th>0<\/th>\n",
       "      <td>Adelie<\/td>\n",
       "      <td>Torgersen<\/td>\n",
       "      <td>MALE<\/td>\n",
       "    <\/tr>\n",
       "    <tr>\n",
       "      <th>1<\/th>\n",
       "      <td>Adelie<\/td>\n",
       "      <td>Torgersen<\/td>\n",
       "      <td>FEMALE<\/td>\n",
       "    <\/tr>\n",
       "    <tr>\n",
       "      <th>2<\/th>\n",
       "      <td>Adelie<\/td>\n",
       "      <td>Torgersen<\/td>\n",
       "      <td>FEMALE<\/td>\n",
       "    <\/tr>\n",
       "    <tr>\n",
       "      <th>3<\/th>\n",
       "      <td>Adelie<\/td>\n",
       "      <td>Torgersen<\/td>\n",
       "      <td>NaN<\/td>\n",
       "    <\/tr>\n",
       "    <tr>\n",
       "      <th>4<\/th>\n",
       "      <td>Adelie<\/td>\n",
       "      <td>Torgersen<\/td>\n",
       "      <td>FEMALE<\/td>\n",
       "    <\/tr>\n",
       "    <tr>\n",
       "      <th>5<\/th>\n",
       "      <td>Adelie<\/td>\n",
       "      <td>Torgersen<\/td>\n",
       "      <td>MALE<\/td>\n",
       "    <\/tr>\n",
       "    <tr>\n",
       "      <th>6<\/th>\n",
       "      <td>Adelie<\/td>\n",
       "      <td>Torgersen<\/td>\n",
       "      <td>FEMALE<\/td>\n",
       "    <\/tr>\n",
       "    <tr>\n",
       "      <th>7<\/th>\n",
       "      <td>Adelie<\/td>\n",
       "      <td>Torgersen<\/td>\n",
       "      <td>MALE<\/td>\n",
       "    <\/tr>\n",
       "    <tr>\n",
       "      <th>8<\/th>\n",
       "      <td>Adelie<\/td>\n",
       "      <td>Torgersen<\/td>\n",
       "      <td>NaN<\/td>\n",
       "    <\/tr>\n",
       "    <tr>\n",
       "      <th>9<\/th>\n",
       "      <td>Adelie<\/td>\n",
       "      <td>Torgersen<\/td>\n",
       "      <td>NaN<\/td>\n",
       "    <\/tr>\n",
       "  <\/tbody>\n",
       "<\/table>\n",
       "<\/div>"
      ]
     },
     "metadata":{
      
     },
     "output_type":"display_data"
    }
   ],
   "metadata":{
    "datalore":{
     "node_id":"1quBqTarqsjN9XIi2llUzh",
     "type":"CODE",
     "hide_input_from_viewers":false,
     "hide_output_from_viewers":false,
     "report_properties":{
      "rowId":"G6MR7XcDpCbM0WmaffHXVE",
      "relativeY":0
     }
    }
   }
  },
  {
   "cell_type":"code",
   "source":[
    "# integer location based indexing (iloc)\n",
    "penguins.iloc[0:3] # penguins.iloc[0,1,2]"
   ],
   "execution_count":32,
   "outputs":[
    {
     "data":{
      "text\/html":[
       "<div>\n",
       "<style scoped>\n",
       "    .dataframe tbody tr th:only-of-type {\n",
       "        vertical-align: middle;\n",
       "    }\n",
       "\n",
       "    .dataframe tbody tr th {\n",
       "        vertical-align: top;\n",
       "    }\n",
       "\n",
       "    .dataframe thead th {\n",
       "        text-align: right;\n",
       "    }\n",
       "<\/style>\n",
       "<table border=\"1\" class=\"dataframe\">\n",
       "  <thead>\n",
       "    <tr style=\"text-align: right;\">\n",
       "      <th><\/th>\n",
       "      <th>species<\/th>\n",
       "      <th>island<\/th>\n",
       "      <th>bill_length_mm<\/th>\n",
       "      <th>bill_depth_mm<\/th>\n",
       "      <th>flipper_length_mm<\/th>\n",
       "      <th>body_mass_g<\/th>\n",
       "      <th>sex<\/th>\n",
       "    <\/tr>\n",
       "  <\/thead>\n",
       "  <tbody>\n",
       "    <tr>\n",
       "      <th>0<\/th>\n",
       "      <td>Adelie<\/td>\n",
       "      <td>Torgersen<\/td>\n",
       "      <td>39.1<\/td>\n",
       "      <td>18.7<\/td>\n",
       "      <td>181.0<\/td>\n",
       "      <td>3750.0<\/td>\n",
       "      <td>MALE<\/td>\n",
       "    <\/tr>\n",
       "    <tr>\n",
       "      <th>1<\/th>\n",
       "      <td>Adelie<\/td>\n",
       "      <td>Torgersen<\/td>\n",
       "      <td>39.5<\/td>\n",
       "      <td>17.4<\/td>\n",
       "      <td>186.0<\/td>\n",
       "      <td>3800.0<\/td>\n",
       "      <td>FEMALE<\/td>\n",
       "    <\/tr>\n",
       "    <tr>\n",
       "      <th>2<\/th>\n",
       "      <td>Adelie<\/td>\n",
       "      <td>Torgersen<\/td>\n",
       "      <td>40.3<\/td>\n",
       "      <td>18.0<\/td>\n",
       "      <td>195.0<\/td>\n",
       "      <td>3250.0<\/td>\n",
       "      <td>FEMALE<\/td>\n",
       "    <\/tr>\n",
       "  <\/tbody>\n",
       "<\/table>\n",
       "<\/div>"
      ]
     },
     "metadata":{
      
     },
     "output_type":"display_data"
    }
   ],
   "metadata":{
    "datalore":{
     "node_id":"xW5cJTn78fX0AhtkJ6LxeS",
     "type":"CODE",
     "hide_input_from_viewers":false,
     "hide_output_from_viewers":false,
     "report_properties":{
      "rowId":"YAzWk50c5mTn7XGosc9IEJ",
      "relativeY":0
     }
    }
   }
  },
  {
   "cell_type":"code",
   "source":[
    "# integer location based indexing (iloc)\n",
    "mini_penguins = penguins.iloc[0:6, [0,1,2]]\n",
    "mini_penguins"
   ],
   "execution_count":33,
   "outputs":[
    {
     "data":{
      "text\/html":[
       "<div>\n",
       "<style scoped>\n",
       "    .dataframe tbody tr th:only-of-type {\n",
       "        vertical-align: middle;\n",
       "    }\n",
       "\n",
       "    .dataframe tbody tr th {\n",
       "        vertical-align: top;\n",
       "    }\n",
       "\n",
       "    .dataframe thead th {\n",
       "        text-align: right;\n",
       "    }\n",
       "<\/style>\n",
       "<table border=\"1\" class=\"dataframe\">\n",
       "  <thead>\n",
       "    <tr style=\"text-align: right;\">\n",
       "      <th><\/th>\n",
       "      <th>species<\/th>\n",
       "      <th>island<\/th>\n",
       "      <th>bill_length_mm<\/th>\n",
       "    <\/tr>\n",
       "  <\/thead>\n",
       "  <tbody>\n",
       "    <tr>\n",
       "      <th>0<\/th>\n",
       "      <td>Adelie<\/td>\n",
       "      <td>Torgersen<\/td>\n",
       "      <td>39.1<\/td>\n",
       "    <\/tr>\n",
       "    <tr>\n",
       "      <th>1<\/th>\n",
       "      <td>Adelie<\/td>\n",
       "      <td>Torgersen<\/td>\n",
       "      <td>39.5<\/td>\n",
       "    <\/tr>\n",
       "    <tr>\n",
       "      <th>2<\/th>\n",
       "      <td>Adelie<\/td>\n",
       "      <td>Torgersen<\/td>\n",
       "      <td>40.3<\/td>\n",
       "    <\/tr>\n",
       "    <tr>\n",
       "      <th>3<\/th>\n",
       "      <td>Adelie<\/td>\n",
       "      <td>Torgersen<\/td>\n",
       "      <td>NaN<\/td>\n",
       "    <\/tr>\n",
       "    <tr>\n",
       "      <th>4<\/th>\n",
       "      <td>Adelie<\/td>\n",
       "      <td>Torgersen<\/td>\n",
       "      <td>36.7<\/td>\n",
       "    <\/tr>\n",
       "    <tr>\n",
       "      <th>5<\/th>\n",
       "      <td>Adelie<\/td>\n",
       "      <td>Torgersen<\/td>\n",
       "      <td>39.3<\/td>\n",
       "    <\/tr>\n",
       "  <\/tbody>\n",
       "<\/table>\n",
       "<\/div>"
      ]
     },
     "metadata":{
      
     },
     "output_type":"display_data"
    }
   ],
   "metadata":{
    "datalore":{
     "node_id":"eXZMdj9djjlVGR5N0O4zQE",
     "type":"CODE",
     "hide_input_from_viewers":false,
     "hide_output_from_viewers":false,
     "report_properties":{
      "rowId":"bCfphqPqC7zl6G6BPonrFg",
      "relativeY":0
     }
    }
   }
  },
  {
   "cell_type":"code",
   "source":[
    "# filter dataframe with one condition\n",
    "penguins.head()\n",
    "penguins[ penguins['island'] == 'Torgersen' ]"
   ],
   "execution_count":34,
   "outputs":[
    {
     "data":{
      "text\/html":[
       "<div>\n",
       "<style scoped>\n",
       "    .dataframe tbody tr th:only-of-type {\n",
       "        vertical-align: middle;\n",
       "    }\n",
       "\n",
       "    .dataframe tbody tr th {\n",
       "        vertical-align: top;\n",
       "    }\n",
       "\n",
       "    .dataframe thead th {\n",
       "        text-align: right;\n",
       "    }\n",
       "<\/style>\n",
       "<table border=\"1\" class=\"dataframe\">\n",
       "  <thead>\n",
       "    <tr style=\"text-align: right;\">\n",
       "      <th><\/th>\n",
       "      <th>species<\/th>\n",
       "      <th>island<\/th>\n",
       "      <th>bill_length_mm<\/th>\n",
       "      <th>bill_depth_mm<\/th>\n",
       "      <th>flipper_length_mm<\/th>\n",
       "      <th>body_mass_g<\/th>\n",
       "      <th>sex<\/th>\n",
       "    <\/tr>\n",
       "  <\/thead>\n",
       "  <tbody>\n",
       "    <tr>\n",
       "      <th>0<\/th>\n",
       "      <td>Adelie<\/td>\n",
       "      <td>Torgersen<\/td>\n",
       "      <td>39.1<\/td>\n",
       "      <td>18.7<\/td>\n",
       "      <td>181.0<\/td>\n",
       "      <td>3750.0<\/td>\n",
       "      <td>MALE<\/td>\n",
       "    <\/tr>\n",
       "    <tr>\n",
       "      <th>1<\/th>\n",
       "      <td>Adelie<\/td>\n",
       "      <td>Torgersen<\/td>\n",
       "      <td>39.5<\/td>\n",
       "      <td>17.4<\/td>\n",
       "      <td>186.0<\/td>\n",
       "      <td>3800.0<\/td>\n",
       "      <td>FEMALE<\/td>\n",
       "    <\/tr>\n",
       "    <tr>\n",
       "      <th>2<\/th>\n",
       "      <td>Adelie<\/td>\n",
       "      <td>Torgersen<\/td>\n",
       "      <td>40.3<\/td>\n",
       "      <td>18.0<\/td>\n",
       "      <td>195.0<\/td>\n",
       "      <td>3250.0<\/td>\n",
       "      <td>FEMALE<\/td>\n",
       "    <\/tr>\n",
       "    <tr>\n",
       "      <th>3<\/th>\n",
       "      <td>Adelie<\/td>\n",
       "      <td>Torgersen<\/td>\n",
       "      <td>NaN<\/td>\n",
       "      <td>NaN<\/td>\n",
       "      <td>NaN<\/td>\n",
       "      <td>NaN<\/td>\n",
       "      <td>NaN<\/td>\n",
       "    <\/tr>\n",
       "    <tr>\n",
       "      <th>4<\/th>\n",
       "      <td>Adelie<\/td>\n",
       "      <td>Torgersen<\/td>\n",
       "      <td>36.7<\/td>\n",
       "      <td>19.3<\/td>\n",
       "      <td>193.0<\/td>\n",
       "      <td>3450.0<\/td>\n",
       "      <td>FEMALE<\/td>\n",
       "    <\/tr>\n",
       "    <tr>\n",
       "      <th>5<\/th>\n",
       "      <td>Adelie<\/td>\n",
       "      <td>Torgersen<\/td>\n",
       "      <td>39.3<\/td>\n",
       "      <td>20.6<\/td>\n",
       "      <td>190.0<\/td>\n",
       "      <td>3650.0<\/td>\n",
       "      <td>MALE<\/td>\n",
       "    <\/tr>\n",
       "    <tr>\n",
       "      <th>6<\/th>\n",
       "      <td>Adelie<\/td>\n",
       "      <td>Torgersen<\/td>\n",
       "      <td>38.9<\/td>\n",
       "      <td>17.8<\/td>\n",
       "      <td>181.0<\/td>\n",
       "      <td>3625.0<\/td>\n",
       "      <td>FEMALE<\/td>\n",
       "    <\/tr>\n",
       "    <tr>\n",
       "      <th>7<\/th>\n",
       "      <td>Adelie<\/td>\n",
       "      <td>Torgersen<\/td>\n",
       "      <td>39.2<\/td>\n",
       "      <td>19.6<\/td>\n",
       "      <td>195.0<\/td>\n",
       "      <td>4675.0<\/td>\n",
       "      <td>MALE<\/td>\n",
       "    <\/tr>\n",
       "    <tr>\n",
       "      <th>8<\/th>\n",
       "      <td>Adelie<\/td>\n",
       "      <td>Torgersen<\/td>\n",
       "      <td>34.1<\/td>\n",
       "      <td>18.1<\/td>\n",
       "      <td>193.0<\/td>\n",
       "      <td>3475.0<\/td>\n",
       "      <td>NaN<\/td>\n",
       "    <\/tr>\n",
       "    <tr>\n",
       "      <th>9<\/th>\n",
       "      <td>Adelie<\/td>\n",
       "      <td>Torgersen<\/td>\n",
       "      <td>42.0<\/td>\n",
       "      <td>20.2<\/td>\n",
       "      <td>190.0<\/td>\n",
       "      <td>4250.0<\/td>\n",
       "      <td>NaN<\/td>\n",
       "    <\/tr>\n",
       "    <tr>\n",
       "      <th>10<\/th>\n",
       "      <td>Adelie<\/td>\n",
       "      <td>Torgersen<\/td>\n",
       "      <td>37.8<\/td>\n",
       "      <td>17.1<\/td>\n",
       "      <td>186.0<\/td>\n",
       "      <td>3300.0<\/td>\n",
       "      <td>NaN<\/td>\n",
       "    <\/tr>\n",
       "    <tr>\n",
       "      <th>11<\/th>\n",
       "      <td>Adelie<\/td>\n",
       "      <td>Torgersen<\/td>\n",
       "      <td>37.8<\/td>\n",
       "      <td>17.3<\/td>\n",
       "      <td>180.0<\/td>\n",
       "      <td>3700.0<\/td>\n",
       "      <td>NaN<\/td>\n",
       "    <\/tr>\n",
       "    <tr>\n",
       "      <th>12<\/th>\n",
       "      <td>Adelie<\/td>\n",
       "      <td>Torgersen<\/td>\n",
       "      <td>41.1<\/td>\n",
       "      <td>17.6<\/td>\n",
       "      <td>182.0<\/td>\n",
       "      <td>3200.0<\/td>\n",
       "      <td>FEMALE<\/td>\n",
       "    <\/tr>\n",
       "    <tr>\n",
       "      <th>13<\/th>\n",
       "      <td>Adelie<\/td>\n",
       "      <td>Torgersen<\/td>\n",
       "      <td>38.6<\/td>\n",
       "      <td>21.2<\/td>\n",
       "      <td>191.0<\/td>\n",
       "      <td>3800.0<\/td>\n",
       "      <td>MALE<\/td>\n",
       "    <\/tr>\n",
       "    <tr>\n",
       "      <th>14<\/th>\n",
       "      <td>Adelie<\/td>\n",
       "      <td>Torgersen<\/td>\n",
       "      <td>34.6<\/td>\n",
       "      <td>21.1<\/td>\n",
       "      <td>198.0<\/td>\n",
       "      <td>4400.0<\/td>\n",
       "      <td>MALE<\/td>\n",
       "    <\/tr>\n",
       "    <tr>\n",
       "      <th>15<\/th>\n",
       "      <td>Adelie<\/td>\n",
       "      <td>Torgersen<\/td>\n",
       "      <td>36.6<\/td>\n",
       "      <td>17.8<\/td>\n",
       "      <td>185.0<\/td>\n",
       "      <td>3700.0<\/td>\n",
       "      <td>FEMALE<\/td>\n",
       "    <\/tr>\n",
       "    <tr>\n",
       "      <th>16<\/th>\n",
       "      <td>Adelie<\/td>\n",
       "      <td>Torgersen<\/td>\n",
       "      <td>38.7<\/td>\n",
       "      <td>19.0<\/td>\n",
       "      <td>195.0<\/td>\n",
       "      <td>3450.0<\/td>\n",
       "      <td>FEMALE<\/td>\n",
       "    <\/tr>\n",
       "    <tr>\n",
       "      <th>17<\/th>\n",
       "      <td>Adelie<\/td>\n",
       "      <td>Torgersen<\/td>\n",
       "      <td>42.5<\/td>\n",
       "      <td>20.7<\/td>\n",
       "      <td>197.0<\/td>\n",
       "      <td>4500.0<\/td>\n",
       "      <td>MALE<\/td>\n",
       "    <\/tr>\n",
       "    <tr>\n",
       "      <th>18<\/th>\n",
       "      <td>Adelie<\/td>\n",
       "      <td>Torgersen<\/td>\n",
       "      <td>34.4<\/td>\n",
       "      <td>18.4<\/td>\n",
       "      <td>184.0<\/td>\n",
       "      <td>3325.0<\/td>\n",
       "      <td>FEMALE<\/td>\n",
       "    <\/tr>\n",
       "    <tr>\n",
       "      <th>19<\/th>\n",
       "      <td>Adelie<\/td>\n",
       "      <td>Torgersen<\/td>\n",
       "      <td>46.0<\/td>\n",
       "      <td>21.5<\/td>\n",
       "      <td>194.0<\/td>\n",
       "      <td>4200.0<\/td>\n",
       "      <td>MALE<\/td>\n",
       "    <\/tr>\n",
       "    <tr>\n",
       "      <th>68<\/th>\n",
       "      <td>Adelie<\/td>\n",
       "      <td>Torgersen<\/td>\n",
       "      <td>35.9<\/td>\n",
       "      <td>16.6<\/td>\n",
       "      <td>190.0<\/td>\n",
       "      <td>3050.0<\/td>\n",
       "      <td>FEMALE<\/td>\n",
       "    <\/tr>\n",
       "    <tr>\n",
       "      <th>69<\/th>\n",
       "      <td>Adelie<\/td>\n",
       "      <td>Torgersen<\/td>\n",
       "      <td>41.8<\/td>\n",
       "      <td>19.4<\/td>\n",
       "      <td>198.0<\/td>\n",
       "      <td>4450.0<\/td>\n",
       "      <td>MALE<\/td>\n",
       "    <\/tr>\n",
       "    <tr>\n",
       "      <th>70<\/th>\n",
       "      <td>Adelie<\/td>\n",
       "      <td>Torgersen<\/td>\n",
       "      <td>33.5<\/td>\n",
       "      <td>19.0<\/td>\n",
       "      <td>190.0<\/td>\n",
       "      <td>3600.0<\/td>\n",
       "      <td>FEMALE<\/td>\n",
       "    <\/tr>\n",
       "    <tr>\n",
       "      <th>71<\/th>\n",
       "      <td>Adelie<\/td>\n",
       "      <td>Torgersen<\/td>\n",
       "      <td>39.7<\/td>\n",
       "      <td>18.4<\/td>\n",
       "      <td>190.0<\/td>\n",
       "      <td>3900.0<\/td>\n",
       "      <td>MALE<\/td>\n",
       "    <\/tr>\n",
       "    <tr>\n",
       "      <th>72<\/th>\n",
       "      <td>Adelie<\/td>\n",
       "      <td>Torgersen<\/td>\n",
       "      <td>39.6<\/td>\n",
       "      <td>17.2<\/td>\n",
       "      <td>196.0<\/td>\n",
       "      <td>3550.0<\/td>\n",
       "      <td>FEMALE<\/td>\n",
       "    <\/tr>\n",
       "    <tr>\n",
       "      <th>73<\/th>\n",
       "      <td>Adelie<\/td>\n",
       "      <td>Torgersen<\/td>\n",
       "      <td>45.8<\/td>\n",
       "      <td>18.9<\/td>\n",
       "      <td>197.0<\/td>\n",
       "      <td>4150.0<\/td>\n",
       "      <td>MALE<\/td>\n",
       "    <\/tr>\n",
       "    <tr>\n",
       "      <th>74<\/th>\n",
       "      <td>Adelie<\/td>\n",
       "      <td>Torgersen<\/td>\n",
       "      <td>35.5<\/td>\n",
       "      <td>17.5<\/td>\n",
       "      <td>190.0<\/td>\n",
       "      <td>3700.0<\/td>\n",
       "      <td>FEMALE<\/td>\n",
       "    <\/tr>\n",
       "    <tr>\n",
       "      <th>75<\/th>\n",
       "      <td>Adelie<\/td>\n",
       "      <td>Torgersen<\/td>\n",
       "      <td>42.8<\/td>\n",
       "      <td>18.5<\/td>\n",
       "      <td>195.0<\/td>\n",
       "      <td>4250.0<\/td>\n",
       "      <td>MALE<\/td>\n",
       "    <\/tr>\n",
       "    <tr>\n",
       "      <th>76<\/th>\n",
       "      <td>Adelie<\/td>\n",
       "      <td>Torgersen<\/td>\n",
       "      <td>40.9<\/td>\n",
       "      <td>16.8<\/td>\n",
       "      <td>191.0<\/td>\n",
       "      <td>3700.0<\/td>\n",
       "      <td>FEMALE<\/td>\n",
       "    <\/tr>\n",
       "    <tr>\n",
       "      <th>77<\/th>\n",
       "      <td>Adelie<\/td>\n",
       "      <td>Torgersen<\/td>\n",
       "      <td>37.2<\/td>\n",
       "      <td>19.4<\/td>\n",
       "      <td>184.0<\/td>\n",
       "      <td>3900.0<\/td>\n",
       "      <td>MALE<\/td>\n",
       "    <\/tr>\n",
       "    <tr>\n",
       "      <th>78<\/th>\n",
       "      <td>Adelie<\/td>\n",
       "      <td>Torgersen<\/td>\n",
       "      <td>36.2<\/td>\n",
       "      <td>16.1<\/td>\n",
       "      <td>187.0<\/td>\n",
       "      <td>3550.0<\/td>\n",
       "      <td>FEMALE<\/td>\n",
       "    <\/tr>\n",
       "    <tr>\n",
       "      <th>79<\/th>\n",
       "      <td>Adelie<\/td>\n",
       "      <td>Torgersen<\/td>\n",
       "      <td>42.1<\/td>\n",
       "      <td>19.1<\/td>\n",
       "      <td>195.0<\/td>\n",
       "      <td>4000.0<\/td>\n",
       "      <td>MALE<\/td>\n",
       "    <\/tr>\n",
       "    <tr>\n",
       "      <th>80<\/th>\n",
       "      <td>Adelie<\/td>\n",
       "      <td>Torgersen<\/td>\n",
       "      <td>34.6<\/td>\n",
       "      <td>17.2<\/td>\n",
       "      <td>189.0<\/td>\n",
       "      <td>3200.0<\/td>\n",
       "      <td>FEMALE<\/td>\n",
       "    <\/tr>\n",
       "    <tr>\n",
       "      <th>81<\/th>\n",
       "      <td>Adelie<\/td>\n",
       "      <td>Torgersen<\/td>\n",
       "      <td>42.9<\/td>\n",
       "      <td>17.6<\/td>\n",
       "      <td>196.0<\/td>\n",
       "      <td>4700.0<\/td>\n",
       "      <td>MALE<\/td>\n",
       "    <\/tr>\n",
       "    <tr>\n",
       "      <th>82<\/th>\n",
       "      <td>Adelie<\/td>\n",
       "      <td>Torgersen<\/td>\n",
       "      <td>36.7<\/td>\n",
       "      <td>18.8<\/td>\n",
       "      <td>187.0<\/td>\n",
       "      <td>3800.0<\/td>\n",
       "      <td>FEMALE<\/td>\n",
       "    <\/tr>\n",
       "    <tr>\n",
       "      <th>83<\/th>\n",
       "      <td>Adelie<\/td>\n",
       "      <td>Torgersen<\/td>\n",
       "      <td>35.1<\/td>\n",
       "      <td>19.4<\/td>\n",
       "      <td>193.0<\/td>\n",
       "      <td>4200.0<\/td>\n",
       "      <td>MALE<\/td>\n",
       "    <\/tr>\n",
       "    <tr>\n",
       "      <th>116<\/th>\n",
       "      <td>Adelie<\/td>\n",
       "      <td>Torgersen<\/td>\n",
       "      <td>38.6<\/td>\n",
       "      <td>17.0<\/td>\n",
       "      <td>188.0<\/td>\n",
       "      <td>2900.0<\/td>\n",
       "      <td>FEMALE<\/td>\n",
       "    <\/tr>\n",
       "    <tr>\n",
       "      <th>117<\/th>\n",
       "      <td>Adelie<\/td>\n",
       "      <td>Torgersen<\/td>\n",
       "      <td>37.3<\/td>\n",
       "      <td>20.5<\/td>\n",
       "      <td>199.0<\/td>\n",
       "      <td>3775.0<\/td>\n",
       "      <td>MALE<\/td>\n",
       "    <\/tr>\n",
       "    <tr>\n",
       "      <th>118<\/th>\n",
       "      <td>Adelie<\/td>\n",
       "      <td>Torgersen<\/td>\n",
       "      <td>35.7<\/td>\n",
       "      <td>17.0<\/td>\n",
       "      <td>189.0<\/td>\n",
       "      <td>3350.0<\/td>\n",
       "      <td>FEMALE<\/td>\n",
       "    <\/tr>\n",
       "    <tr>\n",
       "      <th>119<\/th>\n",
       "      <td>Adelie<\/td>\n",
       "      <td>Torgersen<\/td>\n",
       "      <td>41.1<\/td>\n",
       "      <td>18.6<\/td>\n",
       "      <td>189.0<\/td>\n",
       "      <td>3325.0<\/td>\n",
       "      <td>MALE<\/td>\n",
       "    <\/tr>\n",
       "    <tr>\n",
       "      <th>120<\/th>\n",
       "      <td>Adelie<\/td>\n",
       "      <td>Torgersen<\/td>\n",
       "      <td>36.2<\/td>\n",
       "      <td>17.2<\/td>\n",
       "      <td>187.0<\/td>\n",
       "      <td>3150.0<\/td>\n",
       "      <td>FEMALE<\/td>\n",
       "    <\/tr>\n",
       "    <tr>\n",
       "      <th>121<\/th>\n",
       "      <td>Adelie<\/td>\n",
       "      <td>Torgersen<\/td>\n",
       "      <td>37.7<\/td>\n",
       "      <td>19.8<\/td>\n",
       "      <td>198.0<\/td>\n",
       "      <td>3500.0<\/td>\n",
       "      <td>MALE<\/td>\n",
       "    <\/tr>\n",
       "    <tr>\n",
       "      <th>122<\/th>\n",
       "      <td>Adelie<\/td>\n",
       "      <td>Torgersen<\/td>\n",
       "      <td>40.2<\/td>\n",
       "      <td>17.0<\/td>\n",
       "      <td>176.0<\/td>\n",
       "      <td>3450.0<\/td>\n",
       "      <td>FEMALE<\/td>\n",
       "    <\/tr>\n",
       "    <tr>\n",
       "      <th>123<\/th>\n",
       "      <td>Adelie<\/td>\n",
       "      <td>Torgersen<\/td>\n",
       "      <td>41.4<\/td>\n",
       "      <td>18.5<\/td>\n",
       "      <td>202.0<\/td>\n",
       "      <td>3875.0<\/td>\n",
       "      <td>MALE<\/td>\n",
       "    <\/tr>\n",
       "    <tr>\n",
       "      <th>124<\/th>\n",
       "      <td>Adelie<\/td>\n",
       "      <td>Torgersen<\/td>\n",
       "      <td>35.2<\/td>\n",
       "      <td>15.9<\/td>\n",
       "      <td>186.0<\/td>\n",
       "      <td>3050.0<\/td>\n",
       "      <td>FEMALE<\/td>\n",
       "    <\/tr>\n",
       "    <tr>\n",
       "      <th>125<\/th>\n",
       "      <td>Adelie<\/td>\n",
       "      <td>Torgersen<\/td>\n",
       "      <td>40.6<\/td>\n",
       "      <td>19.0<\/td>\n",
       "      <td>199.0<\/td>\n",
       "      <td>4000.0<\/td>\n",
       "      <td>MALE<\/td>\n",
       "    <\/tr>\n",
       "    <tr>\n",
       "      <th>126<\/th>\n",
       "      <td>Adelie<\/td>\n",
       "      <td>Torgersen<\/td>\n",
       "      <td>38.8<\/td>\n",
       "      <td>17.6<\/td>\n",
       "      <td>191.0<\/td>\n",
       "      <td>3275.0<\/td>\n",
       "      <td>FEMALE<\/td>\n",
       "    <\/tr>\n",
       "    <tr>\n",
       "      <th>127<\/th>\n",
       "      <td>Adelie<\/td>\n",
       "      <td>Torgersen<\/td>\n",
       "      <td>41.5<\/td>\n",
       "      <td>18.3<\/td>\n",
       "      <td>195.0<\/td>\n",
       "      <td>4300.0<\/td>\n",
       "      <td>MALE<\/td>\n",
       "    <\/tr>\n",
       "    <tr>\n",
       "      <th>128<\/th>\n",
       "      <td>Adelie<\/td>\n",
       "      <td>Torgersen<\/td>\n",
       "      <td>39.0<\/td>\n",
       "      <td>17.1<\/td>\n",
       "      <td>191.0<\/td>\n",
       "      <td>3050.0<\/td>\n",
       "      <td>FEMALE<\/td>\n",
       "    <\/tr>\n",
       "    <tr>\n",
       "      <th>129<\/th>\n",
       "      <td>Adelie<\/td>\n",
       "      <td>Torgersen<\/td>\n",
       "      <td>44.1<\/td>\n",
       "      <td>18.0<\/td>\n",
       "      <td>210.0<\/td>\n",
       "      <td>4000.0<\/td>\n",
       "      <td>MALE<\/td>\n",
       "    <\/tr>\n",
       "    <tr>\n",
       "      <th>130<\/th>\n",
       "      <td>Adelie<\/td>\n",
       "      <td>Torgersen<\/td>\n",
       "      <td>38.5<\/td>\n",
       "      <td>17.9<\/td>\n",
       "      <td>190.0<\/td>\n",
       "      <td>3325.0<\/td>\n",
       "      <td>FEMALE<\/td>\n",
       "    <\/tr>\n",
       "    <tr>\n",
       "      <th>131<\/th>\n",
       "      <td>Adelie<\/td>\n",
       "      <td>Torgersen<\/td>\n",
       "      <td>43.1<\/td>\n",
       "      <td>19.2<\/td>\n",
       "      <td>197.0<\/td>\n",
       "      <td>3500.0<\/td>\n",
       "      <td>MALE<\/td>\n",
       "    <\/tr>\n",
       "  <\/tbody>\n",
       "<\/table>\n",
       "<\/div>"
      ]
     },
     "metadata":{
      
     },
     "output_type":"display_data"
    }
   ],
   "metadata":{
    "datalore":{
     "node_id":"RivE6HGnRBLiVkIGKDIakK",
     "type":"CODE",
     "hide_input_from_viewers":false,
     "hide_output_from_viewers":false,
     "report_properties":{
      "rowId":"oiFdGDooOR8EBSJ6779Gdj",
      "relativeY":0
     }
    }
   }
  },
  {
   "cell_type":"code",
   "source":[
    "# filter dataframe with one condition\n",
    "penguins[ penguins['bill_length_mm'] < 34.5 ]"
   ],
   "execution_count":35,
   "outputs":[
    {
     "data":{
      "text\/html":[
       "<div>\n",
       "<style scoped>\n",
       "    .dataframe tbody tr th:only-of-type {\n",
       "        vertical-align: middle;\n",
       "    }\n",
       "\n",
       "    .dataframe tbody tr th {\n",
       "        vertical-align: top;\n",
       "    }\n",
       "\n",
       "    .dataframe thead th {\n",
       "        text-align: right;\n",
       "    }\n",
       "<\/style>\n",
       "<table border=\"1\" class=\"dataframe\">\n",
       "  <thead>\n",
       "    <tr style=\"text-align: right;\">\n",
       "      <th><\/th>\n",
       "      <th>species<\/th>\n",
       "      <th>island<\/th>\n",
       "      <th>bill_length_mm<\/th>\n",
       "      <th>bill_depth_mm<\/th>\n",
       "      <th>flipper_length_mm<\/th>\n",
       "      <th>body_mass_g<\/th>\n",
       "      <th>sex<\/th>\n",
       "    <\/tr>\n",
       "  <\/thead>\n",
       "  <tbody>\n",
       "    <tr>\n",
       "      <th>8<\/th>\n",
       "      <td>Adelie<\/td>\n",
       "      <td>Torgersen<\/td>\n",
       "      <td>34.1<\/td>\n",
       "      <td>18.1<\/td>\n",
       "      <td>193.0<\/td>\n",
       "      <td>3475.0<\/td>\n",
       "      <td>NaN<\/td>\n",
       "    <\/tr>\n",
       "    <tr>\n",
       "      <th>18<\/th>\n",
       "      <td>Adelie<\/td>\n",
       "      <td>Torgersen<\/td>\n",
       "      <td>34.4<\/td>\n",
       "      <td>18.4<\/td>\n",
       "      <td>184.0<\/td>\n",
       "      <td>3325.0<\/td>\n",
       "      <td>FEMALE<\/td>\n",
       "    <\/tr>\n",
       "    <tr>\n",
       "      <th>70<\/th>\n",
       "      <td>Adelie<\/td>\n",
       "      <td>Torgersen<\/td>\n",
       "      <td>33.5<\/td>\n",
       "      <td>19.0<\/td>\n",
       "      <td>190.0<\/td>\n",
       "      <td>3600.0<\/td>\n",
       "      <td>FEMALE<\/td>\n",
       "    <\/tr>\n",
       "    <tr>\n",
       "      <th>92<\/th>\n",
       "      <td>Adelie<\/td>\n",
       "      <td>Dream<\/td>\n",
       "      <td>34.0<\/td>\n",
       "      <td>17.1<\/td>\n",
       "      <td>185.0<\/td>\n",
       "      <td>3400.0<\/td>\n",
       "      <td>FEMALE<\/td>\n",
       "    <\/tr>\n",
       "    <tr>\n",
       "      <th>98<\/th>\n",
       "      <td>Adelie<\/td>\n",
       "      <td>Dream<\/td>\n",
       "      <td>33.1<\/td>\n",
       "      <td>16.1<\/td>\n",
       "      <td>178.0<\/td>\n",
       "      <td>2900.0<\/td>\n",
       "      <td>FEMALE<\/td>\n",
       "    <\/tr>\n",
       "    <tr>\n",
       "      <th>142<\/th>\n",
       "      <td>Adelie<\/td>\n",
       "      <td>Dream<\/td>\n",
       "      <td>32.1<\/td>\n",
       "      <td>15.5<\/td>\n",
       "      <td>188.0<\/td>\n",
       "      <td>3050.0<\/td>\n",
       "      <td>FEMALE<\/td>\n",
       "    <\/tr>\n",
       "  <\/tbody>\n",
       "<\/table>\n",
       "<\/div>"
      ]
     },
     "metadata":{
      
     },
     "output_type":"display_data"
    }
   ],
   "metadata":{
    "datalore":{
     "node_id":"WK5Eqd3VyeEzvbdokY3kyR",
     "type":"CODE",
     "hide_input_from_viewers":false,
     "hide_output_from_viewers":false,
     "report_properties":{
      "rowId":"q9P8fDo1Yccy43B4HPA2ap",
      "relativeY":0
     }
    }
   }
  },
  {
   "cell_type":"code",
   "source":[
    "# filter more than one condition\n",
    "penguins.head()\n",
    "penguins[ (penguins['island'] == 'Torgersen') & (penguins['bill_length_mm'] < 35) ] # and condition\n",
    "filter_penguins = penguins[ (penguins['island'] == 'Torgersen') | (penguins['bill_length_mm'] < 35) ] # or condition\n",
    "filter_penguins"
   ],
   "execution_count":36,
   "outputs":[
    {
     "data":{
      "text\/html":[
       "<div>\n",
       "<style scoped>\n",
       "    .dataframe tbody tr th:only-of-type {\n",
       "        vertical-align: middle;\n",
       "    }\n",
       "\n",
       "    .dataframe tbody tr th {\n",
       "        vertical-align: top;\n",
       "    }\n",
       "\n",
       "    .dataframe thead th {\n",
       "        text-align: right;\n",
       "    }\n",
       "<\/style>\n",
       "<table border=\"1\" class=\"dataframe\">\n",
       "  <thead>\n",
       "    <tr style=\"text-align: right;\">\n",
       "      <th><\/th>\n",
       "      <th>species<\/th>\n",
       "      <th>island<\/th>\n",
       "      <th>bill_length_mm<\/th>\n",
       "      <th>bill_depth_mm<\/th>\n",
       "      <th>flipper_length_mm<\/th>\n",
       "      <th>body_mass_g<\/th>\n",
       "      <th>sex<\/th>\n",
       "    <\/tr>\n",
       "  <\/thead>\n",
       "  <tbody>\n",
       "    <tr>\n",
       "      <th>0<\/th>\n",
       "      <td>Adelie<\/td>\n",
       "      <td>Torgersen<\/td>\n",
       "      <td>39.1<\/td>\n",
       "      <td>18.7<\/td>\n",
       "      <td>181.0<\/td>\n",
       "      <td>3750.0<\/td>\n",
       "      <td>MALE<\/td>\n",
       "    <\/tr>\n",
       "    <tr>\n",
       "      <th>1<\/th>\n",
       "      <td>Adelie<\/td>\n",
       "      <td>Torgersen<\/td>\n",
       "      <td>39.5<\/td>\n",
       "      <td>17.4<\/td>\n",
       "      <td>186.0<\/td>\n",
       "      <td>3800.0<\/td>\n",
       "      <td>FEMALE<\/td>\n",
       "    <\/tr>\n",
       "    <tr>\n",
       "      <th>2<\/th>\n",
       "      <td>Adelie<\/td>\n",
       "      <td>Torgersen<\/td>\n",
       "      <td>40.3<\/td>\n",
       "      <td>18.0<\/td>\n",
       "      <td>195.0<\/td>\n",
       "      <td>3250.0<\/td>\n",
       "      <td>FEMALE<\/td>\n",
       "    <\/tr>\n",
       "    <tr>\n",
       "      <th>3<\/th>\n",
       "      <td>Adelie<\/td>\n",
       "      <td>Torgersen<\/td>\n",
       "      <td>NaN<\/td>\n",
       "      <td>NaN<\/td>\n",
       "      <td>NaN<\/td>\n",
       "      <td>NaN<\/td>\n",
       "      <td>NaN<\/td>\n",
       "    <\/tr>\n",
       "    <tr>\n",
       "      <th>4<\/th>\n",
       "      <td>Adelie<\/td>\n",
       "      <td>Torgersen<\/td>\n",
       "      <td>36.7<\/td>\n",
       "      <td>19.3<\/td>\n",
       "      <td>193.0<\/td>\n",
       "      <td>3450.0<\/td>\n",
       "      <td>FEMALE<\/td>\n",
       "    <\/tr>\n",
       "    <tr>\n",
       "      <th>5<\/th>\n",
       "      <td>Adelie<\/td>\n",
       "      <td>Torgersen<\/td>\n",
       "      <td>39.3<\/td>\n",
       "      <td>20.6<\/td>\n",
       "      <td>190.0<\/td>\n",
       "      <td>3650.0<\/td>\n",
       "      <td>MALE<\/td>\n",
       "    <\/tr>\n",
       "    <tr>\n",
       "      <th>6<\/th>\n",
       "      <td>Adelie<\/td>\n",
       "      <td>Torgersen<\/td>\n",
       "      <td>38.9<\/td>\n",
       "      <td>17.8<\/td>\n",
       "      <td>181.0<\/td>\n",
       "      <td>3625.0<\/td>\n",
       "      <td>FEMALE<\/td>\n",
       "    <\/tr>\n",
       "    <tr>\n",
       "      <th>7<\/th>\n",
       "      <td>Adelie<\/td>\n",
       "      <td>Torgersen<\/td>\n",
       "      <td>39.2<\/td>\n",
       "      <td>19.6<\/td>\n",
       "      <td>195.0<\/td>\n",
       "      <td>4675.0<\/td>\n",
       "      <td>MALE<\/td>\n",
       "    <\/tr>\n",
       "    <tr>\n",
       "      <th>8<\/th>\n",
       "      <td>Adelie<\/td>\n",
       "      <td>Torgersen<\/td>\n",
       "      <td>34.1<\/td>\n",
       "      <td>18.1<\/td>\n",
       "      <td>193.0<\/td>\n",
       "      <td>3475.0<\/td>\n",
       "      <td>NaN<\/td>\n",
       "    <\/tr>\n",
       "    <tr>\n",
       "      <th>9<\/th>\n",
       "      <td>Adelie<\/td>\n",
       "      <td>Torgersen<\/td>\n",
       "      <td>42.0<\/td>\n",
       "      <td>20.2<\/td>\n",
       "      <td>190.0<\/td>\n",
       "      <td>4250.0<\/td>\n",
       "      <td>NaN<\/td>\n",
       "    <\/tr>\n",
       "    <tr>\n",
       "      <th>10<\/th>\n",
       "      <td>Adelie<\/td>\n",
       "      <td>Torgersen<\/td>\n",
       "      <td>37.8<\/td>\n",
       "      <td>17.1<\/td>\n",
       "      <td>186.0<\/td>\n",
       "      <td>3300.0<\/td>\n",
       "      <td>NaN<\/td>\n",
       "    <\/tr>\n",
       "    <tr>\n",
       "      <th>11<\/th>\n",
       "      <td>Adelie<\/td>\n",
       "      <td>Torgersen<\/td>\n",
       "      <td>37.8<\/td>\n",
       "      <td>17.3<\/td>\n",
       "      <td>180.0<\/td>\n",
       "      <td>3700.0<\/td>\n",
       "      <td>NaN<\/td>\n",
       "    <\/tr>\n",
       "    <tr>\n",
       "      <th>12<\/th>\n",
       "      <td>Adelie<\/td>\n",
       "      <td>Torgersen<\/td>\n",
       "      <td>41.1<\/td>\n",
       "      <td>17.6<\/td>\n",
       "      <td>182.0<\/td>\n",
       "      <td>3200.0<\/td>\n",
       "      <td>FEMALE<\/td>\n",
       "    <\/tr>\n",
       "    <tr>\n",
       "      <th>13<\/th>\n",
       "      <td>Adelie<\/td>\n",
       "      <td>Torgersen<\/td>\n",
       "      <td>38.6<\/td>\n",
       "      <td>21.2<\/td>\n",
       "      <td>191.0<\/td>\n",
       "      <td>3800.0<\/td>\n",
       "      <td>MALE<\/td>\n",
       "    <\/tr>\n",
       "    <tr>\n",
       "      <th>14<\/th>\n",
       "      <td>Adelie<\/td>\n",
       "      <td>Torgersen<\/td>\n",
       "      <td>34.6<\/td>\n",
       "      <td>21.1<\/td>\n",
       "      <td>198.0<\/td>\n",
       "      <td>4400.0<\/td>\n",
       "      <td>MALE<\/td>\n",
       "    <\/tr>\n",
       "    <tr>\n",
       "      <th>15<\/th>\n",
       "      <td>Adelie<\/td>\n",
       "      <td>Torgersen<\/td>\n",
       "      <td>36.6<\/td>\n",
       "      <td>17.8<\/td>\n",
       "      <td>185.0<\/td>\n",
       "      <td>3700.0<\/td>\n",
       "      <td>FEMALE<\/td>\n",
       "    <\/tr>\n",
       "    <tr>\n",
       "      <th>16<\/th>\n",
       "      <td>Adelie<\/td>\n",
       "      <td>Torgersen<\/td>\n",
       "      <td>38.7<\/td>\n",
       "      <td>19.0<\/td>\n",
       "      <td>195.0<\/td>\n",
       "      <td>3450.0<\/td>\n",
       "      <td>FEMALE<\/td>\n",
       "    <\/tr>\n",
       "    <tr>\n",
       "      <th>17<\/th>\n",
       "      <td>Adelie<\/td>\n",
       "      <td>Torgersen<\/td>\n",
       "      <td>42.5<\/td>\n",
       "      <td>20.7<\/td>\n",
       "      <td>197.0<\/td>\n",
       "      <td>4500.0<\/td>\n",
       "      <td>MALE<\/td>\n",
       "    <\/tr>\n",
       "    <tr>\n",
       "      <th>18<\/th>\n",
       "      <td>Adelie<\/td>\n",
       "      <td>Torgersen<\/td>\n",
       "      <td>34.4<\/td>\n",
       "      <td>18.4<\/td>\n",
       "      <td>184.0<\/td>\n",
       "      <td>3325.0<\/td>\n",
       "      <td>FEMALE<\/td>\n",
       "    <\/tr>\n",
       "    <tr>\n",
       "      <th>19<\/th>\n",
       "      <td>Adelie<\/td>\n",
       "      <td>Torgersen<\/td>\n",
       "      <td>46.0<\/td>\n",
       "      <td>21.5<\/td>\n",
       "      <td>194.0<\/td>\n",
       "      <td>4200.0<\/td>\n",
       "      <td>MALE<\/td>\n",
       "    <\/tr>\n",
       "    <tr>\n",
       "      <th>54<\/th>\n",
       "      <td>Adelie<\/td>\n",
       "      <td>Biscoe<\/td>\n",
       "      <td>34.5<\/td>\n",
       "      <td>18.1<\/td>\n",
       "      <td>187.0<\/td>\n",
       "      <td>2900.0<\/td>\n",
       "      <td>FEMALE<\/td>\n",
       "    <\/tr>\n",
       "    <tr>\n",
       "      <th>68<\/th>\n",
       "      <td>Adelie<\/td>\n",
       "      <td>Torgersen<\/td>\n",
       "      <td>35.9<\/td>\n",
       "      <td>16.6<\/td>\n",
       "      <td>190.0<\/td>\n",
       "      <td>3050.0<\/td>\n",
       "      <td>FEMALE<\/td>\n",
       "    <\/tr>\n",
       "    <tr>\n",
       "      <th>69<\/th>\n",
       "      <td>Adelie<\/td>\n",
       "      <td>Torgersen<\/td>\n",
       "      <td>41.8<\/td>\n",
       "      <td>19.4<\/td>\n",
       "      <td>198.0<\/td>\n",
       "      <td>4450.0<\/td>\n",
       "      <td>MALE<\/td>\n",
       "    <\/tr>\n",
       "    <tr>\n",
       "      <th>70<\/th>\n",
       "      <td>Adelie<\/td>\n",
       "      <td>Torgersen<\/td>\n",
       "      <td>33.5<\/td>\n",
       "      <td>19.0<\/td>\n",
       "      <td>190.0<\/td>\n",
       "      <td>3600.0<\/td>\n",
       "      <td>FEMALE<\/td>\n",
       "    <\/tr>\n",
       "    <tr>\n",
       "      <th>71<\/th>\n",
       "      <td>Adelie<\/td>\n",
       "      <td>Torgersen<\/td>\n",
       "      <td>39.7<\/td>\n",
       "      <td>18.4<\/td>\n",
       "      <td>190.0<\/td>\n",
       "      <td>3900.0<\/td>\n",
       "      <td>MALE<\/td>\n",
       "    <\/tr>\n",
       "    <tr>\n",
       "      <th>72<\/th>\n",
       "      <td>Adelie<\/td>\n",
       "      <td>Torgersen<\/td>\n",
       "      <td>39.6<\/td>\n",
       "      <td>17.2<\/td>\n",
       "      <td>196.0<\/td>\n",
       "      <td>3550.0<\/td>\n",
       "      <td>FEMALE<\/td>\n",
       "    <\/tr>\n",
       "    <tr>\n",
       "      <th>73<\/th>\n",
       "      <td>Adelie<\/td>\n",
       "      <td>Torgersen<\/td>\n",
       "      <td>45.8<\/td>\n",
       "      <td>18.9<\/td>\n",
       "      <td>197.0<\/td>\n",
       "      <td>4150.0<\/td>\n",
       "      <td>MALE<\/td>\n",
       "    <\/tr>\n",
       "    <tr>\n",
       "      <th>74<\/th>\n",
       "      <td>Adelie<\/td>\n",
       "      <td>Torgersen<\/td>\n",
       "      <td>35.5<\/td>\n",
       "      <td>17.5<\/td>\n",
       "      <td>190.0<\/td>\n",
       "      <td>3700.0<\/td>\n",
       "      <td>FEMALE<\/td>\n",
       "    <\/tr>\n",
       "    <tr>\n",
       "      <th>75<\/th>\n",
       "      <td>Adelie<\/td>\n",
       "      <td>Torgersen<\/td>\n",
       "      <td>42.8<\/td>\n",
       "      <td>18.5<\/td>\n",
       "      <td>195.0<\/td>\n",
       "      <td>4250.0<\/td>\n",
       "      <td>MALE<\/td>\n",
       "    <\/tr>\n",
       "    <tr>\n",
       "      <th>76<\/th>\n",
       "      <td>Adelie<\/td>\n",
       "      <td>Torgersen<\/td>\n",
       "      <td>40.9<\/td>\n",
       "      <td>16.8<\/td>\n",
       "      <td>191.0<\/td>\n",
       "      <td>3700.0<\/td>\n",
       "      <td>FEMALE<\/td>\n",
       "    <\/tr>\n",
       "    <tr>\n",
       "      <th>77<\/th>\n",
       "      <td>Adelie<\/td>\n",
       "      <td>Torgersen<\/td>\n",
       "      <td>37.2<\/td>\n",
       "      <td>19.4<\/td>\n",
       "      <td>184.0<\/td>\n",
       "      <td>3900.0<\/td>\n",
       "      <td>MALE<\/td>\n",
       "    <\/tr>\n",
       "    <tr>\n",
       "      <th>78<\/th>\n",
       "      <td>Adelie<\/td>\n",
       "      <td>Torgersen<\/td>\n",
       "      <td>36.2<\/td>\n",
       "      <td>16.1<\/td>\n",
       "      <td>187.0<\/td>\n",
       "      <td>3550.0<\/td>\n",
       "      <td>FEMALE<\/td>\n",
       "    <\/tr>\n",
       "    <tr>\n",
       "      <th>79<\/th>\n",
       "      <td>Adelie<\/td>\n",
       "      <td>Torgersen<\/td>\n",
       "      <td>42.1<\/td>\n",
       "      <td>19.1<\/td>\n",
       "      <td>195.0<\/td>\n",
       "      <td>4000.0<\/td>\n",
       "      <td>MALE<\/td>\n",
       "    <\/tr>\n",
       "    <tr>\n",
       "      <th>80<\/th>\n",
       "      <td>Adelie<\/td>\n",
       "      <td>Torgersen<\/td>\n",
       "      <td>34.6<\/td>\n",
       "      <td>17.2<\/td>\n",
       "      <td>189.0<\/td>\n",
       "      <td>3200.0<\/td>\n",
       "      <td>FEMALE<\/td>\n",
       "    <\/tr>\n",
       "    <tr>\n",
       "      <th>81<\/th>\n",
       "      <td>Adelie<\/td>\n",
       "      <td>Torgersen<\/td>\n",
       "      <td>42.9<\/td>\n",
       "      <td>17.6<\/td>\n",
       "      <td>196.0<\/td>\n",
       "      <td>4700.0<\/td>\n",
       "      <td>MALE<\/td>\n",
       "    <\/tr>\n",
       "    <tr>\n",
       "      <th>82<\/th>\n",
       "      <td>Adelie<\/td>\n",
       "      <td>Torgersen<\/td>\n",
       "      <td>36.7<\/td>\n",
       "      <td>18.8<\/td>\n",
       "      <td>187.0<\/td>\n",
       "      <td>3800.0<\/td>\n",
       "      <td>FEMALE<\/td>\n",
       "    <\/tr>\n",
       "    <tr>\n",
       "      <th>83<\/th>\n",
       "      <td>Adelie<\/td>\n",
       "      <td>Torgersen<\/td>\n",
       "      <td>35.1<\/td>\n",
       "      <td>19.4<\/td>\n",
       "      <td>193.0<\/td>\n",
       "      <td>4200.0<\/td>\n",
       "      <td>MALE<\/td>\n",
       "    <\/tr>\n",
       "    <tr>\n",
       "      <th>92<\/th>\n",
       "      <td>Adelie<\/td>\n",
       "      <td>Dream<\/td>\n",
       "      <td>34.0<\/td>\n",
       "      <td>17.1<\/td>\n",
       "      <td>185.0<\/td>\n",
       "      <td>3400.0<\/td>\n",
       "      <td>FEMALE<\/td>\n",
       "    <\/tr>\n",
       "    <tr>\n",
       "      <th>98<\/th>\n",
       "      <td>Adelie<\/td>\n",
       "      <td>Dream<\/td>\n",
       "      <td>33.1<\/td>\n",
       "      <td>16.1<\/td>\n",
       "      <td>178.0<\/td>\n",
       "      <td>2900.0<\/td>\n",
       "      <td>FEMALE<\/td>\n",
       "    <\/tr>\n",
       "    <tr>\n",
       "      <th>116<\/th>\n",
       "      <td>Adelie<\/td>\n",
       "      <td>Torgersen<\/td>\n",
       "      <td>38.6<\/td>\n",
       "      <td>17.0<\/td>\n",
       "      <td>188.0<\/td>\n",
       "      <td>2900.0<\/td>\n",
       "      <td>FEMALE<\/td>\n",
       "    <\/tr>\n",
       "    <tr>\n",
       "      <th>117<\/th>\n",
       "      <td>Adelie<\/td>\n",
       "      <td>Torgersen<\/td>\n",
       "      <td>37.3<\/td>\n",
       "      <td>20.5<\/td>\n",
       "      <td>199.0<\/td>\n",
       "      <td>3775.0<\/td>\n",
       "      <td>MALE<\/td>\n",
       "    <\/tr>\n",
       "    <tr>\n",
       "      <th>118<\/th>\n",
       "      <td>Adelie<\/td>\n",
       "      <td>Torgersen<\/td>\n",
       "      <td>35.7<\/td>\n",
       "      <td>17.0<\/td>\n",
       "      <td>189.0<\/td>\n",
       "      <td>3350.0<\/td>\n",
       "      <td>FEMALE<\/td>\n",
       "    <\/tr>\n",
       "    <tr>\n",
       "      <th>119<\/th>\n",
       "      <td>Adelie<\/td>\n",
       "      <td>Torgersen<\/td>\n",
       "      <td>41.1<\/td>\n",
       "      <td>18.6<\/td>\n",
       "      <td>189.0<\/td>\n",
       "      <td>3325.0<\/td>\n",
       "      <td>MALE<\/td>\n",
       "    <\/tr>\n",
       "    <tr>\n",
       "      <th>120<\/th>\n",
       "      <td>Adelie<\/td>\n",
       "      <td>Torgersen<\/td>\n",
       "      <td>36.2<\/td>\n",
       "      <td>17.2<\/td>\n",
       "      <td>187.0<\/td>\n",
       "      <td>3150.0<\/td>\n",
       "      <td>FEMALE<\/td>\n",
       "    <\/tr>\n",
       "    <tr>\n",
       "      <th>121<\/th>\n",
       "      <td>Adelie<\/td>\n",
       "      <td>Torgersen<\/td>\n",
       "      <td>37.7<\/td>\n",
       "      <td>19.8<\/td>\n",
       "      <td>198.0<\/td>\n",
       "      <td>3500.0<\/td>\n",
       "      <td>MALE<\/td>\n",
       "    <\/tr>\n",
       "    <tr>\n",
       "      <th>122<\/th>\n",
       "      <td>Adelie<\/td>\n",
       "      <td>Torgersen<\/td>\n",
       "      <td>40.2<\/td>\n",
       "      <td>17.0<\/td>\n",
       "      <td>176.0<\/td>\n",
       "      <td>3450.0<\/td>\n",
       "      <td>FEMALE<\/td>\n",
       "    <\/tr>\n",
       "    <tr>\n",
       "      <th>123<\/th>\n",
       "      <td>Adelie<\/td>\n",
       "      <td>Torgersen<\/td>\n",
       "      <td>41.4<\/td>\n",
       "      <td>18.5<\/td>\n",
       "      <td>202.0<\/td>\n",
       "      <td>3875.0<\/td>\n",
       "      <td>MALE<\/td>\n",
       "    <\/tr>\n",
       "    <tr>\n",
       "      <th>124<\/th>\n",
       "      <td>Adelie<\/td>\n",
       "      <td>Torgersen<\/td>\n",
       "      <td>35.2<\/td>\n",
       "      <td>15.9<\/td>\n",
       "      <td>186.0<\/td>\n",
       "      <td>3050.0<\/td>\n",
       "      <td>FEMALE<\/td>\n",
       "    <\/tr>\n",
       "    <tr>\n",
       "      <th>125<\/th>\n",
       "      <td>Adelie<\/td>\n",
       "      <td>Torgersen<\/td>\n",
       "      <td>40.6<\/td>\n",
       "      <td>19.0<\/td>\n",
       "      <td>199.0<\/td>\n",
       "      <td>4000.0<\/td>\n",
       "      <td>MALE<\/td>\n",
       "    <\/tr>\n",
       "    <tr>\n",
       "      <th>126<\/th>\n",
       "      <td>Adelie<\/td>\n",
       "      <td>Torgersen<\/td>\n",
       "      <td>38.8<\/td>\n",
       "      <td>17.6<\/td>\n",
       "      <td>191.0<\/td>\n",
       "      <td>3275.0<\/td>\n",
       "      <td>FEMALE<\/td>\n",
       "    <\/tr>\n",
       "    <tr>\n",
       "      <th>127<\/th>\n",
       "      <td>Adelie<\/td>\n",
       "      <td>Torgersen<\/td>\n",
       "      <td>41.5<\/td>\n",
       "      <td>18.3<\/td>\n",
       "      <td>195.0<\/td>\n",
       "      <td>4300.0<\/td>\n",
       "      <td>MALE<\/td>\n",
       "    <\/tr>\n",
       "    <tr>\n",
       "      <th>128<\/th>\n",
       "      <td>Adelie<\/td>\n",
       "      <td>Torgersen<\/td>\n",
       "      <td>39.0<\/td>\n",
       "      <td>17.1<\/td>\n",
       "      <td>191.0<\/td>\n",
       "      <td>3050.0<\/td>\n",
       "      <td>FEMALE<\/td>\n",
       "    <\/tr>\n",
       "    <tr>\n",
       "      <th>129<\/th>\n",
       "      <td>Adelie<\/td>\n",
       "      <td>Torgersen<\/td>\n",
       "      <td>44.1<\/td>\n",
       "      <td>18.0<\/td>\n",
       "      <td>210.0<\/td>\n",
       "      <td>4000.0<\/td>\n",
       "      <td>MALE<\/td>\n",
       "    <\/tr>\n",
       "    <tr>\n",
       "      <th>130<\/th>\n",
       "      <td>Adelie<\/td>\n",
       "      <td>Torgersen<\/td>\n",
       "      <td>38.5<\/td>\n",
       "      <td>17.9<\/td>\n",
       "      <td>190.0<\/td>\n",
       "      <td>3325.0<\/td>\n",
       "      <td>FEMALE<\/td>\n",
       "    <\/tr>\n",
       "    <tr>\n",
       "      <th>131<\/th>\n",
       "      <td>Adelie<\/td>\n",
       "      <td>Torgersen<\/td>\n",
       "      <td>43.1<\/td>\n",
       "      <td>19.2<\/td>\n",
       "      <td>197.0<\/td>\n",
       "      <td>3500.0<\/td>\n",
       "      <td>MALE<\/td>\n",
       "    <\/tr>\n",
       "    <tr>\n",
       "      <th>142<\/th>\n",
       "      <td>Adelie<\/td>\n",
       "      <td>Dream<\/td>\n",
       "      <td>32.1<\/td>\n",
       "      <td>15.5<\/td>\n",
       "      <td>188.0<\/td>\n",
       "      <td>3050.0<\/td>\n",
       "      <td>FEMALE<\/td>\n",
       "    <\/tr>\n",
       "  <\/tbody>\n",
       "<\/table>\n",
       "<\/div>"
      ]
     },
     "metadata":{
      
     },
     "output_type":"display_data"
    }
   ],
   "metadata":{
    "datalore":{
     "node_id":"N5rh0I2Z8MmX7JqfP6udZt",
     "type":"CODE",
     "hide_input_from_viewers":false,
     "hide_output_from_viewers":false,
     "report_properties":{
      "rowId":"kQt0JwsolgVCA1YAaXGW1l",
      "relativeY":0
     }
    }
   }
  },
  {
   "cell_type":"code",
   "source":[
    "# filter with .query()\n",
    "penguins.query(' island == \"Torgersen\" & bill_length_mm < 35') # \"island == 'Torgersen'\""
   ],
   "execution_count":37,
   "outputs":[
    {
     "data":{
      "text\/html":[
       "<div>\n",
       "<style scoped>\n",
       "    .dataframe tbody tr th:only-of-type {\n",
       "        vertical-align: middle;\n",
       "    }\n",
       "\n",
       "    .dataframe tbody tr th {\n",
       "        vertical-align: top;\n",
       "    }\n",
       "\n",
       "    .dataframe thead th {\n",
       "        text-align: right;\n",
       "    }\n",
       "<\/style>\n",
       "<table border=\"1\" class=\"dataframe\">\n",
       "  <thead>\n",
       "    <tr style=\"text-align: right;\">\n",
       "      <th><\/th>\n",
       "      <th>species<\/th>\n",
       "      <th>island<\/th>\n",
       "      <th>bill_length_mm<\/th>\n",
       "      <th>bill_depth_mm<\/th>\n",
       "      <th>flipper_length_mm<\/th>\n",
       "      <th>body_mass_g<\/th>\n",
       "      <th>sex<\/th>\n",
       "    <\/tr>\n",
       "  <\/thead>\n",
       "  <tbody>\n",
       "    <tr>\n",
       "      <th>8<\/th>\n",
       "      <td>Adelie<\/td>\n",
       "      <td>Torgersen<\/td>\n",
       "      <td>34.1<\/td>\n",
       "      <td>18.1<\/td>\n",
       "      <td>193.0<\/td>\n",
       "      <td>3475.0<\/td>\n",
       "      <td>NaN<\/td>\n",
       "    <\/tr>\n",
       "    <tr>\n",
       "      <th>14<\/th>\n",
       "      <td>Adelie<\/td>\n",
       "      <td>Torgersen<\/td>\n",
       "      <td>34.6<\/td>\n",
       "      <td>21.1<\/td>\n",
       "      <td>198.0<\/td>\n",
       "      <td>4400.0<\/td>\n",
       "      <td>MALE<\/td>\n",
       "    <\/tr>\n",
       "    <tr>\n",
       "      <th>18<\/th>\n",
       "      <td>Adelie<\/td>\n",
       "      <td>Torgersen<\/td>\n",
       "      <td>34.4<\/td>\n",
       "      <td>18.4<\/td>\n",
       "      <td>184.0<\/td>\n",
       "      <td>3325.0<\/td>\n",
       "      <td>FEMALE<\/td>\n",
       "    <\/tr>\n",
       "    <tr>\n",
       "      <th>70<\/th>\n",
       "      <td>Adelie<\/td>\n",
       "      <td>Torgersen<\/td>\n",
       "      <td>33.5<\/td>\n",
       "      <td>19.0<\/td>\n",
       "      <td>190.0<\/td>\n",
       "      <td>3600.0<\/td>\n",
       "      <td>FEMALE<\/td>\n",
       "    <\/tr>\n",
       "    <tr>\n",
       "      <th>80<\/th>\n",
       "      <td>Adelie<\/td>\n",
       "      <td>Torgersen<\/td>\n",
       "      <td>34.6<\/td>\n",
       "      <td>17.2<\/td>\n",
       "      <td>189.0<\/td>\n",
       "      <td>3200.0<\/td>\n",
       "      <td>FEMALE<\/td>\n",
       "    <\/tr>\n",
       "  <\/tbody>\n",
       "<\/table>\n",
       "<\/div>"
      ]
     },
     "metadata":{
      
     },
     "output_type":"display_data"
    }
   ],
   "metadata":{
    "datalore":{
     "node_id":"5cTjriEwLEBts51ad8Nc1r",
     "type":"CODE",
     "hide_input_from_viewers":false,
     "hide_output_from_viewers":false,
     "report_properties":{
      "rowId":"W7W8LteLmQ9TuxWdH2D2Cv",
      "relativeY":0
     }
    }
   }
  },
  {
   "cell_type":"code",
   "source":[
    "# filter missing values in column sex\n",
    "penguins.isna().sum()"
   ],
   "execution_count":38,
   "outputs":[
    {
     "data":{
      "text\/html":[
       "<pre>species               0\n",
       "island                0\n",
       "bill_length_mm        2\n",
       "bill_depth_mm         2\n",
       "flipper_length_mm     2\n",
       "body_mass_g           2\n",
       "sex                  11\n",
       "dtype: int64<\/pre>"
      ]
     },
     "metadata":{
      
     },
     "output_type":"display_data"
    }
   ],
   "metadata":{
    "datalore":{
     "node_id":"9LbEyScqvTYHK5HlEsz6Ik",
     "type":"CODE",
     "hide_input_from_viewers":false,
     "hide_output_from_viewers":false,
     "report_properties":{
      "rowId":"HDVhPB7V4O7ozGaHwD4SF1",
      "relativeY":0
     }
    }
   }
  },
  {
   "cell_type":"code",
   "source":[
    "# filter missing values in column sex\n",
    "penguins[ penguins['sex'].isna() ]"
   ],
   "execution_count":39,
   "outputs":[
    {
     "data":{
      "text\/html":[
       "<div>\n",
       "<style scoped>\n",
       "    .dataframe tbody tr th:only-of-type {\n",
       "        vertical-align: middle;\n",
       "    }\n",
       "\n",
       "    .dataframe tbody tr th {\n",
       "        vertical-align: top;\n",
       "    }\n",
       "\n",
       "    .dataframe thead th {\n",
       "        text-align: right;\n",
       "    }\n",
       "<\/style>\n",
       "<table border=\"1\" class=\"dataframe\">\n",
       "  <thead>\n",
       "    <tr style=\"text-align: right;\">\n",
       "      <th><\/th>\n",
       "      <th>species<\/th>\n",
       "      <th>island<\/th>\n",
       "      <th>bill_length_mm<\/th>\n",
       "      <th>bill_depth_mm<\/th>\n",
       "      <th>flipper_length_mm<\/th>\n",
       "      <th>body_mass_g<\/th>\n",
       "      <th>sex<\/th>\n",
       "    <\/tr>\n",
       "  <\/thead>\n",
       "  <tbody>\n",
       "    <tr>\n",
       "      <th>3<\/th>\n",
       "      <td>Adelie<\/td>\n",
       "      <td>Torgersen<\/td>\n",
       "      <td>NaN<\/td>\n",
       "      <td>NaN<\/td>\n",
       "      <td>NaN<\/td>\n",
       "      <td>NaN<\/td>\n",
       "      <td>NaN<\/td>\n",
       "    <\/tr>\n",
       "    <tr>\n",
       "      <th>8<\/th>\n",
       "      <td>Adelie<\/td>\n",
       "      <td>Torgersen<\/td>\n",
       "      <td>34.1<\/td>\n",
       "      <td>18.1<\/td>\n",
       "      <td>193.0<\/td>\n",
       "      <td>3475.0<\/td>\n",
       "      <td>NaN<\/td>\n",
       "    <\/tr>\n",
       "    <tr>\n",
       "      <th>9<\/th>\n",
       "      <td>Adelie<\/td>\n",
       "      <td>Torgersen<\/td>\n",
       "      <td>42.0<\/td>\n",
       "      <td>20.2<\/td>\n",
       "      <td>190.0<\/td>\n",
       "      <td>4250.0<\/td>\n",
       "      <td>NaN<\/td>\n",
       "    <\/tr>\n",
       "    <tr>\n",
       "      <th>10<\/th>\n",
       "      <td>Adelie<\/td>\n",
       "      <td>Torgersen<\/td>\n",
       "      <td>37.8<\/td>\n",
       "      <td>17.1<\/td>\n",
       "      <td>186.0<\/td>\n",
       "      <td>3300.0<\/td>\n",
       "      <td>NaN<\/td>\n",
       "    <\/tr>\n",
       "    <tr>\n",
       "      <th>11<\/th>\n",
       "      <td>Adelie<\/td>\n",
       "      <td>Torgersen<\/td>\n",
       "      <td>37.8<\/td>\n",
       "      <td>17.3<\/td>\n",
       "      <td>180.0<\/td>\n",
       "      <td>3700.0<\/td>\n",
       "      <td>NaN<\/td>\n",
       "    <\/tr>\n",
       "    <tr>\n",
       "      <th>47<\/th>\n",
       "      <td>Adelie<\/td>\n",
       "      <td>Dream<\/td>\n",
       "      <td>37.5<\/td>\n",
       "      <td>18.9<\/td>\n",
       "      <td>179.0<\/td>\n",
       "      <td>2975.0<\/td>\n",
       "      <td>NaN<\/td>\n",
       "    <\/tr>\n",
       "    <tr>\n",
       "      <th>246<\/th>\n",
       "      <td>Gentoo<\/td>\n",
       "      <td>Biscoe<\/td>\n",
       "      <td>44.5<\/td>\n",
       "      <td>14.3<\/td>\n",
       "      <td>216.0<\/td>\n",
       "      <td>4100.0<\/td>\n",
       "      <td>NaN<\/td>\n",
       "    <\/tr>\n",
       "    <tr>\n",
       "      <th>286<\/th>\n",
       "      <td>Gentoo<\/td>\n",
       "      <td>Biscoe<\/td>\n",
       "      <td>46.2<\/td>\n",
       "      <td>14.4<\/td>\n",
       "      <td>214.0<\/td>\n",
       "      <td>4650.0<\/td>\n",
       "      <td>NaN<\/td>\n",
       "    <\/tr>\n",
       "    <tr>\n",
       "      <th>324<\/th>\n",
       "      <td>Gentoo<\/td>\n",
       "      <td>Biscoe<\/td>\n",
       "      <td>47.3<\/td>\n",
       "      <td>13.8<\/td>\n",
       "      <td>216.0<\/td>\n",
       "      <td>4725.0<\/td>\n",
       "      <td>NaN<\/td>\n",
       "    <\/tr>\n",
       "    <tr>\n",
       "      <th>336<\/th>\n",
       "      <td>Gentoo<\/td>\n",
       "      <td>Biscoe<\/td>\n",
       "      <td>44.5<\/td>\n",
       "      <td>15.7<\/td>\n",
       "      <td>217.0<\/td>\n",
       "      <td>4875.0<\/td>\n",
       "      <td>NaN<\/td>\n",
       "    <\/tr>\n",
       "    <tr>\n",
       "      <th>339<\/th>\n",
       "      <td>Gentoo<\/td>\n",
       "      <td>Biscoe<\/td>\n",
       "      <td>NaN<\/td>\n",
       "      <td>NaN<\/td>\n",
       "      <td>NaN<\/td>\n",
       "      <td>NaN<\/td>\n",
       "      <td>NaN<\/td>\n",
       "    <\/tr>\n",
       "  <\/tbody>\n",
       "<\/table>\n",
       "<\/div>"
      ]
     },
     "metadata":{
      
     },
     "output_type":"display_data"
    }
   ],
   "metadata":{
    "datalore":{
     "node_id":"itMlwPjDCrnnxHLt49RR4S",
     "type":"CODE",
     "hide_input_from_viewers":false,
     "hide_output_from_viewers":false,
     "report_properties":{
      "rowId":"0xsT9QoQV1FRZL9DwLjn9P",
      "relativeY":0
     }
    }
   }
  },
  {
   "cell_type":"code",
   "source":[
    "penguins[ penguins['bill_length_mm'].isna() ]"
   ],
   "execution_count":40,
   "outputs":[
    {
     "data":{
      "text\/html":[
       "<div>\n",
       "<style scoped>\n",
       "    .dataframe tbody tr th:only-of-type {\n",
       "        vertical-align: middle;\n",
       "    }\n",
       "\n",
       "    .dataframe tbody tr th {\n",
       "        vertical-align: top;\n",
       "    }\n",
       "\n",
       "    .dataframe thead th {\n",
       "        text-align: right;\n",
       "    }\n",
       "<\/style>\n",
       "<table border=\"1\" class=\"dataframe\">\n",
       "  <thead>\n",
       "    <tr style=\"text-align: right;\">\n",
       "      <th><\/th>\n",
       "      <th>species<\/th>\n",
       "      <th>island<\/th>\n",
       "      <th>bill_length_mm<\/th>\n",
       "      <th>bill_depth_mm<\/th>\n",
       "      <th>flipper_length_mm<\/th>\n",
       "      <th>body_mass_g<\/th>\n",
       "      <th>sex<\/th>\n",
       "    <\/tr>\n",
       "  <\/thead>\n",
       "  <tbody>\n",
       "    <tr>\n",
       "      <th>3<\/th>\n",
       "      <td>Adelie<\/td>\n",
       "      <td>Torgersen<\/td>\n",
       "      <td>NaN<\/td>\n",
       "      <td>NaN<\/td>\n",
       "      <td>NaN<\/td>\n",
       "      <td>NaN<\/td>\n",
       "      <td>NaN<\/td>\n",
       "    <\/tr>\n",
       "    <tr>\n",
       "      <th>339<\/th>\n",
       "      <td>Gentoo<\/td>\n",
       "      <td>Biscoe<\/td>\n",
       "      <td>NaN<\/td>\n",
       "      <td>NaN<\/td>\n",
       "      <td>NaN<\/td>\n",
       "      <td>NaN<\/td>\n",
       "      <td>NaN<\/td>\n",
       "    <\/tr>\n",
       "  <\/tbody>\n",
       "<\/table>\n",
       "<\/div>"
      ]
     },
     "metadata":{
      
     },
     "output_type":"display_data"
    }
   ],
   "metadata":{
    "datalore":{
     "node_id":"ldGiUbkhaZLoZCpRAF0nv9",
     "type":"CODE",
     "hide_input_from_viewers":false,
     "hide_output_from_viewers":false,
     "report_properties":{
      "rowId":"giy06vHR1iA6auQBQ8ie2s",
      "relativeY":0
     }
    }
   }
  },
  {
   "cell_type":"code",
   "source":[
    "# drop na\n",
    "clean_penguins = penguins.dropna()\n",
    "\n",
    "clean_penguins.head(10)"
   ],
   "execution_count":41,
   "outputs":[
    {
     "data":{
      "text\/html":[
       "<div>\n",
       "<style scoped>\n",
       "    .dataframe tbody tr th:only-of-type {\n",
       "        vertical-align: middle;\n",
       "    }\n",
       "\n",
       "    .dataframe tbody tr th {\n",
       "        vertical-align: top;\n",
       "    }\n",
       "\n",
       "    .dataframe thead th {\n",
       "        text-align: right;\n",
       "    }\n",
       "<\/style>\n",
       "<table border=\"1\" class=\"dataframe\">\n",
       "  <thead>\n",
       "    <tr style=\"text-align: right;\">\n",
       "      <th><\/th>\n",
       "      <th>species<\/th>\n",
       "      <th>island<\/th>\n",
       "      <th>bill_length_mm<\/th>\n",
       "      <th>bill_depth_mm<\/th>\n",
       "      <th>flipper_length_mm<\/th>\n",
       "      <th>body_mass_g<\/th>\n",
       "      <th>sex<\/th>\n",
       "    <\/tr>\n",
       "  <\/thead>\n",
       "  <tbody>\n",
       "    <tr>\n",
       "      <th>0<\/th>\n",
       "      <td>Adelie<\/td>\n",
       "      <td>Torgersen<\/td>\n",
       "      <td>39.1<\/td>\n",
       "      <td>18.7<\/td>\n",
       "      <td>181.0<\/td>\n",
       "      <td>3750.0<\/td>\n",
       "      <td>MALE<\/td>\n",
       "    <\/tr>\n",
       "    <tr>\n",
       "      <th>1<\/th>\n",
       "      <td>Adelie<\/td>\n",
       "      <td>Torgersen<\/td>\n",
       "      <td>39.5<\/td>\n",
       "      <td>17.4<\/td>\n",
       "      <td>186.0<\/td>\n",
       "      <td>3800.0<\/td>\n",
       "      <td>FEMALE<\/td>\n",
       "    <\/tr>\n",
       "    <tr>\n",
       "      <th>2<\/th>\n",
       "      <td>Adelie<\/td>\n",
       "      <td>Torgersen<\/td>\n",
       "      <td>40.3<\/td>\n",
       "      <td>18.0<\/td>\n",
       "      <td>195.0<\/td>\n",
       "      <td>3250.0<\/td>\n",
       "      <td>FEMALE<\/td>\n",
       "    <\/tr>\n",
       "    <tr>\n",
       "      <th>4<\/th>\n",
       "      <td>Adelie<\/td>\n",
       "      <td>Torgersen<\/td>\n",
       "      <td>36.7<\/td>\n",
       "      <td>19.3<\/td>\n",
       "      <td>193.0<\/td>\n",
       "      <td>3450.0<\/td>\n",
       "      <td>FEMALE<\/td>\n",
       "    <\/tr>\n",
       "    <tr>\n",
       "      <th>5<\/th>\n",
       "      <td>Adelie<\/td>\n",
       "      <td>Torgersen<\/td>\n",
       "      <td>39.3<\/td>\n",
       "      <td>20.6<\/td>\n",
       "      <td>190.0<\/td>\n",
       "      <td>3650.0<\/td>\n",
       "      <td>MALE<\/td>\n",
       "    <\/tr>\n",
       "    <tr>\n",
       "      <th>6<\/th>\n",
       "      <td>Adelie<\/td>\n",
       "      <td>Torgersen<\/td>\n",
       "      <td>38.9<\/td>\n",
       "      <td>17.8<\/td>\n",
       "      <td>181.0<\/td>\n",
       "      <td>3625.0<\/td>\n",
       "      <td>FEMALE<\/td>\n",
       "    <\/tr>\n",
       "    <tr>\n",
       "      <th>7<\/th>\n",
       "      <td>Adelie<\/td>\n",
       "      <td>Torgersen<\/td>\n",
       "      <td>39.2<\/td>\n",
       "      <td>19.6<\/td>\n",
       "      <td>195.0<\/td>\n",
       "      <td>4675.0<\/td>\n",
       "      <td>MALE<\/td>\n",
       "    <\/tr>\n",
       "    <tr>\n",
       "      <th>12<\/th>\n",
       "      <td>Adelie<\/td>\n",
       "      <td>Torgersen<\/td>\n",
       "      <td>41.1<\/td>\n",
       "      <td>17.6<\/td>\n",
       "      <td>182.0<\/td>\n",
       "      <td>3200.0<\/td>\n",
       "      <td>FEMALE<\/td>\n",
       "    <\/tr>\n",
       "    <tr>\n",
       "      <th>13<\/th>\n",
       "      <td>Adelie<\/td>\n",
       "      <td>Torgersen<\/td>\n",
       "      <td>38.6<\/td>\n",
       "      <td>21.2<\/td>\n",
       "      <td>191.0<\/td>\n",
       "      <td>3800.0<\/td>\n",
       "      <td>MALE<\/td>\n",
       "    <\/tr>\n",
       "    <tr>\n",
       "      <th>14<\/th>\n",
       "      <td>Adelie<\/td>\n",
       "      <td>Torgersen<\/td>\n",
       "      <td>34.6<\/td>\n",
       "      <td>21.1<\/td>\n",
       "      <td>198.0<\/td>\n",
       "      <td>4400.0<\/td>\n",
       "      <td>MALE<\/td>\n",
       "    <\/tr>\n",
       "  <\/tbody>\n",
       "<\/table>\n",
       "<\/div>"
      ]
     },
     "metadata":{
      
     },
     "output_type":"display_data"
    }
   ],
   "metadata":{
    "datalore":{
     "node_id":"jx29A4PLUSaRNlWkLkheQb",
     "type":"CODE",
     "hide_input_from_viewers":false,
     "hide_output_from_viewers":false,
     "report_properties":{
      "rowId":"tdOBobvfiUAiXrQVwTr9st",
      "relativeY":0
     }
    }
   }
  },
  {
   "cell_type":"code",
   "source":[
    "import pandas as pd\n"
   ],
   "execution_count":42,
   "outputs":[
    
   ],
   "metadata":{
    "datalore":{
     "node_id":"srRLCL2bijY06mEa9ZSuP4",
     "type":"CODE",
     "hide_input_from_viewers":false,
     "hide_output_from_viewers":false,
     "report_properties":{
      "rowId":"DOnKODohyOPwgsrBQmet8Y",
      "relativeY":0
     }
    }
   }
  },
  {
   "cell_type":"code",
   "source":[
    "penguins = pd.read_csv(\"penguins.csv\")"
   ],
   "execution_count":43,
   "outputs":[
    
   ],
   "metadata":{
    "datalore":{
     "node_id":"fTGvli7FqCVimbKK8OzuqO",
     "type":"CODE",
     "hide_input_from_viewers":false,
     "hide_output_from_viewers":false,
     "report_properties":{
      "rowId":"DOnKODohyOPwgsrBQmet8Y",
      "relativeY":6
     }
    }
   }
  },
  {
   "cell_type":"code",
   "source":[
    "# mean imputaion\n",
    "# fill missing values\n",
    "top5_penguins = penguins.head(5)"
   ],
   "execution_count":44,
   "outputs":[
    
   ],
   "metadata":{
    "datalore":{
     "node_id":"BgC5LgEWkqekLWO1AfCELb",
     "type":"CODE",
     "hide_input_from_viewers":false,
     "hide_output_from_viewers":false,
     "report_properties":{
      "rowId":"DOnKODohyOPwgsrBQmet8Y",
      "relativeY":12
     }
    }
   }
  },
  {
   "cell_type":"code",
   "source":[
    "avg_value = top5_penguins['bill_length_mm'].mean()\n",
    "print(avg_value)"
   ],
   "execution_count":45,
   "outputs":[
    {
     "name":"stdout",
     "text":[
      "38.9\n"
     ],
     "output_type":"stream"
    }
   ],
   "metadata":{
    "datalore":{
     "node_id":"35cisaTN6kZvYlT98kmC7l",
     "type":"CODE",
     "hide_input_from_viewers":false,
     "hide_output_from_viewers":false,
     "report_properties":{
      "rowId":"NF6cFhZngZeBOT3p7nnAPn",
      "relativeY":0
     }
    }
   }
  },
  {
   "cell_type":"code",
   "source":[
    "top5_penguins = top5_penguins['bill_length_mm'].fillna(value = avg_value)\n",
    "top5_penguins"
   ],
   "execution_count":46,
   "outputs":[
    {
     "data":{
      "text\/html":[
       "<pre>0    39.1\n",
       "1    39.5\n",
       "2    40.3\n",
       "3    38.9\n",
       "4    36.7\n",
       "Name: bill_length_mm, dtype: float64<\/pre>"
      ]
     },
     "metadata":{
      
     },
     "output_type":"display_data"
    }
   ],
   "metadata":{
    "datalore":{
     "node_id":"qCwto0XiqBDHrg9JvQiq4J",
     "type":"CODE",
     "hide_input_from_viewers":false,
     "hide_output_from_viewers":false,
     "report_properties":{
      "rowId":"yqxi8kVw9vny50sMDouT7R",
      "relativeY":0
     }
    }
   }
  },
  {
   "cell_type":"code",
   "source":[
    "# sort bill_length_mm low to high, high to low\n",
    "penguins.dropna().sort_values('bill_length_mm', ascending=False)"
   ],
   "execution_count":47,
   "outputs":[
    {
     "data":{
      "text\/html":[
       "<div>\n",
       "<style scoped>\n",
       "    .dataframe tbody tr th:only-of-type {\n",
       "        vertical-align: middle;\n",
       "    }\n",
       "\n",
       "    .dataframe tbody tr th {\n",
       "        vertical-align: top;\n",
       "    }\n",
       "\n",
       "    .dataframe thead th {\n",
       "        text-align: right;\n",
       "    }\n",
       "<\/style>\n",
       "<table border=\"1\" class=\"dataframe\">\n",
       "  <thead>\n",
       "    <tr style=\"text-align: right;\">\n",
       "      <th><\/th>\n",
       "      <th>species<\/th>\n",
       "      <th>island<\/th>\n",
       "      <th>bill_length_mm<\/th>\n",
       "      <th>bill_depth_mm<\/th>\n",
       "      <th>flipper_length_mm<\/th>\n",
       "      <th>body_mass_g<\/th>\n",
       "      <th>sex<\/th>\n",
       "    <\/tr>\n",
       "  <\/thead>\n",
       "  <tbody>\n",
       "    <tr>\n",
       "      <th>253<\/th>\n",
       "      <td>Gentoo<\/td>\n",
       "      <td>Biscoe<\/td>\n",
       "      <td>59.6<\/td>\n",
       "      <td>17.0<\/td>\n",
       "      <td>230.0<\/td>\n",
       "      <td>6050.0<\/td>\n",
       "      <td>MALE<\/td>\n",
       "    <\/tr>\n",
       "    <tr>\n",
       "      <th>169<\/th>\n",
       "      <td>Chinstrap<\/td>\n",
       "      <td>Dream<\/td>\n",
       "      <td>58.0<\/td>\n",
       "      <td>17.8<\/td>\n",
       "      <td>181.0<\/td>\n",
       "      <td>3700.0<\/td>\n",
       "      <td>FEMALE<\/td>\n",
       "    <\/tr>\n",
       "    <tr>\n",
       "      <th>321<\/th>\n",
       "      <td>Gentoo<\/td>\n",
       "      <td>Biscoe<\/td>\n",
       "      <td>55.9<\/td>\n",
       "      <td>17.0<\/td>\n",
       "      <td>228.0<\/td>\n",
       "      <td>5600.0<\/td>\n",
       "      <td>MALE<\/td>\n",
       "    <\/tr>\n",
       "    <tr>\n",
       "      <th>215<\/th>\n",
       "      <td>Chinstrap<\/td>\n",
       "      <td>Dream<\/td>\n",
       "      <td>55.8<\/td>\n",
       "      <td>19.8<\/td>\n",
       "      <td>207.0<\/td>\n",
       "      <td>4000.0<\/td>\n",
       "      <td>MALE<\/td>\n",
       "    <\/tr>\n",
       "    <tr>\n",
       "      <th>335<\/th>\n",
       "      <td>Gentoo<\/td>\n",
       "      <td>Biscoe<\/td>\n",
       "      <td>55.1<\/td>\n",
       "      <td>16.0<\/td>\n",
       "      <td>230.0<\/td>\n",
       "      <td>5850.0<\/td>\n",
       "      <td>MALE<\/td>\n",
       "    <\/tr>\n",
       "    <tr>\n",
       "      <th>...<\/th>\n",
       "      <td>...<\/td>\n",
       "      <td>...<\/td>\n",
       "      <td>...<\/td>\n",
       "      <td>...<\/td>\n",
       "      <td>...<\/td>\n",
       "      <td>...<\/td>\n",
       "      <td>...<\/td>\n",
       "    <\/tr>\n",
       "    <tr>\n",
       "      <th>18<\/th>\n",
       "      <td>Adelie<\/td>\n",
       "      <td>Torgersen<\/td>\n",
       "      <td>34.4<\/td>\n",
       "      <td>18.4<\/td>\n",
       "      <td>184.0<\/td>\n",
       "      <td>3325.0<\/td>\n",
       "      <td>FEMALE<\/td>\n",
       "    <\/tr>\n",
       "    <tr>\n",
       "      <th>92<\/th>\n",
       "      <td>Adelie<\/td>\n",
       "      <td>Dream<\/td>\n",
       "      <td>34.0<\/td>\n",
       "      <td>17.1<\/td>\n",
       "      <td>185.0<\/td>\n",
       "      <td>3400.0<\/td>\n",
       "      <td>FEMALE<\/td>\n",
       "    <\/tr>\n",
       "    <tr>\n",
       "      <th>70<\/th>\n",
       "      <td>Adelie<\/td>\n",
       "      <td>Torgersen<\/td>\n",
       "      <td>33.5<\/td>\n",
       "      <td>19.0<\/td>\n",
       "      <td>190.0<\/td>\n",
       "      <td>3600.0<\/td>\n",
       "      <td>FEMALE<\/td>\n",
       "    <\/tr>\n",
       "    <tr>\n",
       "      <th>98<\/th>\n",
       "      <td>Adelie<\/td>\n",
       "      <td>Dream<\/td>\n",
       "      <td>33.1<\/td>\n",
       "      <td>16.1<\/td>\n",
       "      <td>178.0<\/td>\n",
       "      <td>2900.0<\/td>\n",
       "      <td>FEMALE<\/td>\n",
       "    <\/tr>\n",
       "    <tr>\n",
       "      <th>142<\/th>\n",
       "      <td>Adelie<\/td>\n",
       "      <td>Dream<\/td>\n",
       "      <td>32.1<\/td>\n",
       "      <td>15.5<\/td>\n",
       "      <td>188.0<\/td>\n",
       "      <td>3050.0<\/td>\n",
       "      <td>FEMALE<\/td>\n",
       "    <\/tr>\n",
       "  <\/tbody>\n",
       "<\/table>\n",
       "<p>333 rows × 7 columns<\/p>\n",
       "<\/div>"
      ]
     },
     "metadata":{
      
     },
     "output_type":"display_data"
    }
   ],
   "metadata":{
    "datalore":{
     "node_id":"EIt4z6E9BBtv5LF4Vl7iLd",
     "type":"CODE",
     "hide_input_from_viewers":false,
     "hide_output_from_viewers":false,
     "report_properties":{
      "rowId":"92QSst5k2IV9IOSea19H0B",
      "relativeY":0
     }
    }
   }
  },
  {
   "cell_type":"code",
   "source":[
    "# sort multiple columns\n",
    "penguins.dropna().sort_values(['island','bill_length_mm'])"
   ],
   "execution_count":48,
   "outputs":[
    {
     "data":{
      "text\/html":[
       "<div>\n",
       "<style scoped>\n",
       "    .dataframe tbody tr th:only-of-type {\n",
       "        vertical-align: middle;\n",
       "    }\n",
       "\n",
       "    .dataframe tbody tr th {\n",
       "        vertical-align: top;\n",
       "    }\n",
       "\n",
       "    .dataframe thead th {\n",
       "        text-align: right;\n",
       "    }\n",
       "<\/style>\n",
       "<table border=\"1\" class=\"dataframe\">\n",
       "  <thead>\n",
       "    <tr style=\"text-align: right;\">\n",
       "      <th><\/th>\n",
       "      <th>species<\/th>\n",
       "      <th>island<\/th>\n",
       "      <th>bill_length_mm<\/th>\n",
       "      <th>bill_depth_mm<\/th>\n",
       "      <th>flipper_length_mm<\/th>\n",
       "      <th>body_mass_g<\/th>\n",
       "      <th>sex<\/th>\n",
       "    <\/tr>\n",
       "  <\/thead>\n",
       "  <tbody>\n",
       "    <tr>\n",
       "      <th>54<\/th>\n",
       "      <td>Adelie<\/td>\n",
       "      <td>Biscoe<\/td>\n",
       "      <td>34.5<\/td>\n",
       "      <td>18.1<\/td>\n",
       "      <td>187.0<\/td>\n",
       "      <td>2900.0<\/td>\n",
       "      <td>FEMALE<\/td>\n",
       "    <\/tr>\n",
       "    <tr>\n",
       "      <th>52<\/th>\n",
       "      <td>Adelie<\/td>\n",
       "      <td>Biscoe<\/td>\n",
       "      <td>35.0<\/td>\n",
       "      <td>17.9<\/td>\n",
       "      <td>190.0<\/td>\n",
       "      <td>3450.0<\/td>\n",
       "      <td>FEMALE<\/td>\n",
       "    <\/tr>\n",
       "    <tr>\n",
       "      <th>100<\/th>\n",
       "      <td>Adelie<\/td>\n",
       "      <td>Biscoe<\/td>\n",
       "      <td>35.0<\/td>\n",
       "      <td>17.9<\/td>\n",
       "      <td>192.0<\/td>\n",
       "      <td>3725.0<\/td>\n",
       "      <td>FEMALE<\/td>\n",
       "    <\/tr>\n",
       "    <tr>\n",
       "      <th>25<\/th>\n",
       "      <td>Adelie<\/td>\n",
       "      <td>Biscoe<\/td>\n",
       "      <td>35.3<\/td>\n",
       "      <td>18.9<\/td>\n",
       "      <td>187.0<\/td>\n",
       "      <td>3800.0<\/td>\n",
       "      <td>FEMALE<\/td>\n",
       "    <\/tr>\n",
       "    <tr>\n",
       "      <th>66<\/th>\n",
       "      <td>Adelie<\/td>\n",
       "      <td>Biscoe<\/td>\n",
       "      <td>35.5<\/td>\n",
       "      <td>16.2<\/td>\n",
       "      <td>195.0<\/td>\n",
       "      <td>3350.0<\/td>\n",
       "      <td>FEMALE<\/td>\n",
       "    <\/tr>\n",
       "    <tr>\n",
       "      <th>...<\/th>\n",
       "      <td>...<\/td>\n",
       "      <td>...<\/td>\n",
       "      <td>...<\/td>\n",
       "      <td>...<\/td>\n",
       "      <td>...<\/td>\n",
       "      <td>...<\/td>\n",
       "      <td>...<\/td>\n",
       "    <\/tr>\n",
       "    <tr>\n",
       "      <th>81<\/th>\n",
       "      <td>Adelie<\/td>\n",
       "      <td>Torgersen<\/td>\n",
       "      <td>42.9<\/td>\n",
       "      <td>17.6<\/td>\n",
       "      <td>196.0<\/td>\n",
       "      <td>4700.0<\/td>\n",
       "      <td>MALE<\/td>\n",
       "    <\/tr>\n",
       "    <tr>\n",
       "      <th>131<\/th>\n",
       "      <td>Adelie<\/td>\n",
       "      <td>Torgersen<\/td>\n",
       "      <td>43.1<\/td>\n",
       "      <td>19.2<\/td>\n",
       "      <td>197.0<\/td>\n",
       "      <td>3500.0<\/td>\n",
       "      <td>MALE<\/td>\n",
       "    <\/tr>\n",
       "    <tr>\n",
       "      <th>129<\/th>\n",
       "      <td>Adelie<\/td>\n",
       "      <td>Torgersen<\/td>\n",
       "      <td>44.1<\/td>\n",
       "      <td>18.0<\/td>\n",
       "      <td>210.0<\/td>\n",
       "      <td>4000.0<\/td>\n",
       "      <td>MALE<\/td>\n",
       "    <\/tr>\n",
       "    <tr>\n",
       "      <th>73<\/th>\n",
       "      <td>Adelie<\/td>\n",
       "      <td>Torgersen<\/td>\n",
       "      <td>45.8<\/td>\n",
       "      <td>18.9<\/td>\n",
       "      <td>197.0<\/td>\n",
       "      <td>4150.0<\/td>\n",
       "      <td>MALE<\/td>\n",
       "    <\/tr>\n",
       "    <tr>\n",
       "      <th>19<\/th>\n",
       "      <td>Adelie<\/td>\n",
       "      <td>Torgersen<\/td>\n",
       "      <td>46.0<\/td>\n",
       "      <td>21.5<\/td>\n",
       "      <td>194.0<\/td>\n",
       "      <td>4200.0<\/td>\n",
       "      <td>MALE<\/td>\n",
       "    <\/tr>\n",
       "  <\/tbody>\n",
       "<\/table>\n",
       "<p>333 rows × 7 columns<\/p>\n",
       "<\/div>"
      ]
     },
     "metadata":{
      
     },
     "output_type":"display_data"
    }
   ],
   "metadata":{
    "datalore":{
     "node_id":"y3YeM0frF8fW7MymkUF8Lf",
     "type":"CODE",
     "hide_input_from_viewers":false,
     "hide_output_from_viewers":false,
     "report_properties":{
      "rowId":"5yNOBXy7ZPZlI4Ea1zX4ik",
      "relativeY":0
     }
    }
   }
  },
  {
   "cell_type":"code",
   "source":[
    "# unique values\n",
    "penguins['species'].unique()"
   ],
   "execution_count":5,
   "outputs":[
    {
     "data":{
      "text\/html":[
       "<pre>array(['Adelie', 'Chinstrap', 'Gentoo'], dtype=object)<\/pre>"
      ]
     },
     "metadata":{
      
     },
     "output_type":"display_data"
    }
   ],
   "metadata":{
    "datalore":{
     "node_id":"3AosyyH6E2jrhe9mx88xYE",
     "type":"CODE",
     "hide_input_from_viewers":true,
     "hide_output_from_viewers":true
    }
   }
  },
  {
   "cell_type":"code",
   "source":[
    "# count values\n",
    "penguins['species'].value_counts()"
   ],
   "execution_count":7,
   "outputs":[
    {
     "data":{
      "text\/html":[
       "<pre>Adelie       152\n",
       "Gentoo       124\n",
       "Chinstrap     68\n",
       "Name: species, dtype: int64<\/pre>"
      ]
     },
     "metadata":{
      
     },
     "output_type":"display_data"
    }
   ],
   "metadata":{
    "datalore":{
     "node_id":"OYgOMtYlhieg6YsiCCuB10",
     "type":"CODE",
     "hide_input_from_viewers":true,
     "hide_output_from_viewers":true
    }
   }
  },
  {
   "cell_type":"code",
   "source":[
    "# count more than 1 values\n",
    "result = penguins[ ['island', 'species'] ].value_counts().reset_index()\n",
    "\n",
    "result.columns = ['island', 'species', 'count']\n",
    "result"
   ],
   "execution_count":13,
   "outputs":[
    {
     "data":{
      "text\/html":[
       "<div>\n",
       "<style scoped>\n",
       "    .dataframe tbody tr th:only-of-type {\n",
       "        vertical-align: middle;\n",
       "    }\n",
       "\n",
       "    .dataframe tbody tr th {\n",
       "        vertical-align: top;\n",
       "    }\n",
       "\n",
       "    .dataframe thead th {\n",
       "        text-align: right;\n",
       "    }\n",
       "<\/style>\n",
       "<table border=\"1\" class=\"dataframe\">\n",
       "  <thead>\n",
       "    <tr style=\"text-align: right;\">\n",
       "      <th><\/th>\n",
       "      <th>island<\/th>\n",
       "      <th>species<\/th>\n",
       "      <th>count<\/th>\n",
       "    <\/tr>\n",
       "  <\/thead>\n",
       "  <tbody>\n",
       "    <tr>\n",
       "      <th>0<\/th>\n",
       "      <td>Biscoe<\/td>\n",
       "      <td>Gentoo<\/td>\n",
       "      <td>124<\/td>\n",
       "    <\/tr>\n",
       "    <tr>\n",
       "      <th>1<\/th>\n",
       "      <td>Dream<\/td>\n",
       "      <td>Chinstrap<\/td>\n",
       "      <td>68<\/td>\n",
       "    <\/tr>\n",
       "    <tr>\n",
       "      <th>2<\/th>\n",
       "      <td>Dream<\/td>\n",
       "      <td>Adelie<\/td>\n",
       "      <td>56<\/td>\n",
       "    <\/tr>\n",
       "    <tr>\n",
       "      <th>3<\/th>\n",
       "      <td>Torgersen<\/td>\n",
       "      <td>Adelie<\/td>\n",
       "      <td>52<\/td>\n",
       "    <\/tr>\n",
       "    <tr>\n",
       "      <th>4<\/th>\n",
       "      <td>Biscoe<\/td>\n",
       "      <td>Adelie<\/td>\n",
       "      <td>44<\/td>\n",
       "    <\/tr>\n",
       "  <\/tbody>\n",
       "<\/table>\n",
       "<\/div>"
      ]
     },
     "metadata":{
      
     },
     "output_type":"display_data"
    }
   ],
   "metadata":{
    "datalore":{
     "node_id":"NPQFDyrexpx5bsfGt5yzTp",
     "type":"CODE",
     "hide_input_from_viewers":true,
     "hide_output_from_viewers":true
    }
   }
  },
  {
   "cell_type":"code",
   "source":[
    "# map values MALE : m & Female : f\n",
    "# penguins['sex'].head()\n",
    "penguins['sex_new'] = penguins['sex'].map({'MALE' : 'm' , 'FEMALE': 'f'}).fillna('other')\n",
    "\n",
    "penguins.head(10)"
   ],
   "execution_count":9,
   "outputs":[
    {
     "data":{
      "text\/html":[
       "<div>\n",
       "<style scoped>\n",
       "    .dataframe tbody tr th:only-of-type {\n",
       "        vertical-align: middle;\n",
       "    }\n",
       "\n",
       "    .dataframe tbody tr th {\n",
       "        vertical-align: top;\n",
       "    }\n",
       "\n",
       "    .dataframe thead th {\n",
       "        text-align: right;\n",
       "    }\n",
       "<\/style>\n",
       "<table border=\"1\" class=\"dataframe\">\n",
       "  <thead>\n",
       "    <tr style=\"text-align: right;\">\n",
       "      <th><\/th>\n",
       "      <th>species<\/th>\n",
       "      <th>island<\/th>\n",
       "      <th>bill_length_mm<\/th>\n",
       "      <th>bill_depth_mm<\/th>\n",
       "      <th>flipper_length_mm<\/th>\n",
       "      <th>body_mass_g<\/th>\n",
       "      <th>sex<\/th>\n",
       "      <th>sex_new<\/th>\n",
       "    <\/tr>\n",
       "  <\/thead>\n",
       "  <tbody>\n",
       "    <tr>\n",
       "      <th>0<\/th>\n",
       "      <td>Adelie<\/td>\n",
       "      <td>Torgersen<\/td>\n",
       "      <td>39.1<\/td>\n",
       "      <td>18.7<\/td>\n",
       "      <td>181.0<\/td>\n",
       "      <td>3750.0<\/td>\n",
       "      <td>MALE<\/td>\n",
       "      <td>m<\/td>\n",
       "    <\/tr>\n",
       "    <tr>\n",
       "      <th>1<\/th>\n",
       "      <td>Adelie<\/td>\n",
       "      <td>Torgersen<\/td>\n",
       "      <td>39.5<\/td>\n",
       "      <td>17.4<\/td>\n",
       "      <td>186.0<\/td>\n",
       "      <td>3800.0<\/td>\n",
       "      <td>FEMALE<\/td>\n",
       "      <td>f<\/td>\n",
       "    <\/tr>\n",
       "    <tr>\n",
       "      <th>2<\/th>\n",
       "      <td>Adelie<\/td>\n",
       "      <td>Torgersen<\/td>\n",
       "      <td>40.3<\/td>\n",
       "      <td>18.0<\/td>\n",
       "      <td>195.0<\/td>\n",
       "      <td>3250.0<\/td>\n",
       "      <td>FEMALE<\/td>\n",
       "      <td>f<\/td>\n",
       "    <\/tr>\n",
       "    <tr>\n",
       "      <th>3<\/th>\n",
       "      <td>Adelie<\/td>\n",
       "      <td>Torgersen<\/td>\n",
       "      <td>NaN<\/td>\n",
       "      <td>NaN<\/td>\n",
       "      <td>NaN<\/td>\n",
       "      <td>NaN<\/td>\n",
       "      <td>NaN<\/td>\n",
       "      <td>other<\/td>\n",
       "    <\/tr>\n",
       "    <tr>\n",
       "      <th>4<\/th>\n",
       "      <td>Adelie<\/td>\n",
       "      <td>Torgersen<\/td>\n",
       "      <td>36.7<\/td>\n",
       "      <td>19.3<\/td>\n",
       "      <td>193.0<\/td>\n",
       "      <td>3450.0<\/td>\n",
       "      <td>FEMALE<\/td>\n",
       "      <td>f<\/td>\n",
       "    <\/tr>\n",
       "    <tr>\n",
       "      <th>5<\/th>\n",
       "      <td>Adelie<\/td>\n",
       "      <td>Torgersen<\/td>\n",
       "      <td>39.3<\/td>\n",
       "      <td>20.6<\/td>\n",
       "      <td>190.0<\/td>\n",
       "      <td>3650.0<\/td>\n",
       "      <td>MALE<\/td>\n",
       "      <td>m<\/td>\n",
       "    <\/tr>\n",
       "    <tr>\n",
       "      <th>6<\/th>\n",
       "      <td>Adelie<\/td>\n",
       "      <td>Torgersen<\/td>\n",
       "      <td>38.9<\/td>\n",
       "      <td>17.8<\/td>\n",
       "      <td>181.0<\/td>\n",
       "      <td>3625.0<\/td>\n",
       "      <td>FEMALE<\/td>\n",
       "      <td>f<\/td>\n",
       "    <\/tr>\n",
       "    <tr>\n",
       "      <th>7<\/th>\n",
       "      <td>Adelie<\/td>\n",
       "      <td>Torgersen<\/td>\n",
       "      <td>39.2<\/td>\n",
       "      <td>19.6<\/td>\n",
       "      <td>195.0<\/td>\n",
       "      <td>4675.0<\/td>\n",
       "      <td>MALE<\/td>\n",
       "      <td>m<\/td>\n",
       "    <\/tr>\n",
       "    <tr>\n",
       "      <th>8<\/th>\n",
       "      <td>Adelie<\/td>\n",
       "      <td>Torgersen<\/td>\n",
       "      <td>34.1<\/td>\n",
       "      <td>18.1<\/td>\n",
       "      <td>193.0<\/td>\n",
       "      <td>3475.0<\/td>\n",
       "      <td>NaN<\/td>\n",
       "      <td>other<\/td>\n",
       "    <\/tr>\n",
       "    <tr>\n",
       "      <th>9<\/th>\n",
       "      <td>Adelie<\/td>\n",
       "      <td>Torgersen<\/td>\n",
       "      <td>42.0<\/td>\n",
       "      <td>20.2<\/td>\n",
       "      <td>190.0<\/td>\n",
       "      <td>4250.0<\/td>\n",
       "      <td>NaN<\/td>\n",
       "      <td>other<\/td>\n",
       "    <\/tr>\n",
       "  <\/tbody>\n",
       "<\/table>\n",
       "<\/div>"
      ]
     },
     "metadata":{
      
     },
     "output_type":"display_data"
    }
   ],
   "metadata":{
    "datalore":{
     "node_id":"zPJGTRGNaglDzkdrPT9Mgs",
     "type":"CODE",
     "hide_input_from_viewers":true,
     "hide_output_from_viewers":true
    }
   }
  },
  {
   "cell_type":"code",
   "source":[
    "# pandas style\n",
    "\n",
    "penguins['bill_length_mm'].mean()"
   ],
   "execution_count":10,
   "outputs":[
    {
     "data":{
      "text\/plain":[
       "43.9219298245614"
      ]
     },
     "metadata":{
      
     },
     "output_type":"display_data"
    }
   ],
   "metadata":{
    "datalore":{
     "node_id":"hniLPP7XZLslYGOhzsqQgG",
     "type":"CODE",
     "hide_input_from_viewers":true,
     "hide_output_from_viewers":true
    }
   }
  },
  {
   "cell_type":"code",
   "source":[
    "# numpy : Numerical Python\n",
    "import numpy as np\n",
    "\n",
    "np.mean(penguins['bill_length_mm'])"
   ],
   "execution_count":11,
   "outputs":[
    {
     "data":{
      "text\/plain":[
       "43.9219298245614"
      ]
     },
     "metadata":{
      
     },
     "output_type":"display_data"
    }
   ],
   "metadata":{
    "datalore":{
     "node_id":"Z0ZpdI8MAgStNmC13LDmm2",
     "type":"CODE",
     "hide_input_from_viewers":true,
     "hide_output_from_viewers":true
    }
   }
  },
  {
   "cell_type":"code",
   "source":[
    "print(np.sum(penguins['bill_depth_mm']))\n",
    "print(np.std(penguins['body_mass_g']))"
   ],
   "execution_count":14,
   "outputs":[
    {
     "name":"stdout",
     "text":[
      "5865.700000000001\n",
      "800.7812292384522\n"
     ],
     "output_type":"stream"
    }
   ],
   "metadata":{
    "datalore":{
     "node_id":"ULoUvS07VbBwR4Fka4Lg0W",
     "type":"CODE",
     "hide_input_from_viewers":true,
     "hide_output_from_viewers":true
    }
   }
  },
  {
   "cell_type":"code",
   "source":[
    
   ],
   "execution_count":null,
   "outputs":[
    
   ],
   "metadata":{
    "datalore":{
     "node_id":"NBNJMsjpX83CZpodF3ZMzR",
     "type":"CODE",
     "hide_input_from_viewers":true,
     "hide_output_from_viewers":true
    }
   }
  },
  {
   "cell_type":"markdown",
   "source":[
    "# Intermediate Pandas2"
   ],
   "attachments":{
    
   },
   "metadata":{
    "datalore":{
     "node_id":"Intermediate Pandas2",
     "type":"MD",
     "hide_input_from_viewers":false,
     "hide_output_from_viewers":false,
     "sheet_delimiter":true
    }
   }
  },
  {
   "cell_type":"code",
   "source":[
    "import pandas as pd"
   ],
   "execution_count":14,
   "outputs":[
    
   ],
   "metadata":{
    "datalore":{
     "node_id":"0gRhHcrNxq3CLgOaRVidK5",
     "type":"CODE",
     "hide_input_from_viewers":true,
     "hide_output_from_viewers":true
    }
   }
  },
  {
   "cell_type":"code",
   "source":[
    "penguins = pd.read_csv(\"penguins.csv\")"
   ],
   "execution_count":15,
   "outputs":[
    
   ],
   "metadata":{
    "datalore":{
     "node_id":"vBqakq5PkKyjMjTOrFdDoj",
     "type":"CODE",
     "hide_input_from_viewers":true,
     "hide_output_from_viewers":true
    }
   }
  },
  {
   "cell_type":"code",
   "source":[
    "penguins.head()"
   ],
   "execution_count":16,
   "outputs":[
    {
     "data":{
      "text\/html":[
       "<div>\n",
       "<style scoped>\n",
       "    .dataframe tbody tr th:only-of-type {\n",
       "        vertical-align: middle;\n",
       "    }\n",
       "\n",
       "    .dataframe tbody tr th {\n",
       "        vertical-align: top;\n",
       "    }\n",
       "\n",
       "    .dataframe thead th {\n",
       "        text-align: right;\n",
       "    }\n",
       "<\/style>\n",
       "<table border=\"1\" class=\"dataframe\">\n",
       "  <thead>\n",
       "    <tr style=\"text-align: right;\">\n",
       "      <th><\/th>\n",
       "      <th>species<\/th>\n",
       "      <th>island<\/th>\n",
       "      <th>bill_length_mm<\/th>\n",
       "      <th>bill_depth_mm<\/th>\n",
       "      <th>flipper_length_mm<\/th>\n",
       "      <th>body_mass_g<\/th>\n",
       "      <th>sex<\/th>\n",
       "    <\/tr>\n",
       "  <\/thead>\n",
       "  <tbody>\n",
       "    <tr>\n",
       "      <th>0<\/th>\n",
       "      <td>Adelie<\/td>\n",
       "      <td>Torgersen<\/td>\n",
       "      <td>39.1<\/td>\n",
       "      <td>18.7<\/td>\n",
       "      <td>181.0<\/td>\n",
       "      <td>3750.0<\/td>\n",
       "      <td>MALE<\/td>\n",
       "    <\/tr>\n",
       "    <tr>\n",
       "      <th>1<\/th>\n",
       "      <td>Adelie<\/td>\n",
       "      <td>Torgersen<\/td>\n",
       "      <td>39.5<\/td>\n",
       "      <td>17.4<\/td>\n",
       "      <td>186.0<\/td>\n",
       "      <td>3800.0<\/td>\n",
       "      <td>FEMALE<\/td>\n",
       "    <\/tr>\n",
       "    <tr>\n",
       "      <th>2<\/th>\n",
       "      <td>Adelie<\/td>\n",
       "      <td>Torgersen<\/td>\n",
       "      <td>40.3<\/td>\n",
       "      <td>18.0<\/td>\n",
       "      <td>195.0<\/td>\n",
       "      <td>3250.0<\/td>\n",
       "      <td>FEMALE<\/td>\n",
       "    <\/tr>\n",
       "    <tr>\n",
       "      <th>3<\/th>\n",
       "      <td>Adelie<\/td>\n",
       "      <td>Torgersen<\/td>\n",
       "      <td>NaN<\/td>\n",
       "      <td>NaN<\/td>\n",
       "      <td>NaN<\/td>\n",
       "      <td>NaN<\/td>\n",
       "      <td>NaN<\/td>\n",
       "    <\/tr>\n",
       "    <tr>\n",
       "      <th>4<\/th>\n",
       "      <td>Adelie<\/td>\n",
       "      <td>Torgersen<\/td>\n",
       "      <td>36.7<\/td>\n",
       "      <td>19.3<\/td>\n",
       "      <td>193.0<\/td>\n",
       "      <td>3450.0<\/td>\n",
       "      <td>FEMALE<\/td>\n",
       "    <\/tr>\n",
       "  <\/tbody>\n",
       "<\/table>\n",
       "<\/div>"
      ]
     },
     "metadata":{
      
     },
     "output_type":"display_data"
    }
   ],
   "metadata":{
    "datalore":{
     "node_id":"PCWgnFuxHhvcgGmDaLxkJh",
     "type":"CODE",
     "hide_input_from_viewers":true,
     "hide_output_from_viewers":true
    }
   }
  },
  {
   "cell_type":"code",
   "source":[
    "# summarize daraframe\n",
    "penguins.describe(include = 'all')"
   ],
   "execution_count":18,
   "outputs":[
    {
     "data":{
      "text\/html":[
       "<div>\n",
       "<style scoped>\n",
       "    .dataframe tbody tr th:only-of-type {\n",
       "        vertical-align: middle;\n",
       "    }\n",
       "\n",
       "    .dataframe tbody tr th {\n",
       "        vertical-align: top;\n",
       "    }\n",
       "\n",
       "    .dataframe thead th {\n",
       "        text-align: right;\n",
       "    }\n",
       "<\/style>\n",
       "<table border=\"1\" class=\"dataframe\">\n",
       "  <thead>\n",
       "    <tr style=\"text-align: right;\">\n",
       "      <th><\/th>\n",
       "      <th>species<\/th>\n",
       "      <th>island<\/th>\n",
       "      <th>bill_length_mm<\/th>\n",
       "      <th>bill_depth_mm<\/th>\n",
       "      <th>flipper_length_mm<\/th>\n",
       "      <th>body_mass_g<\/th>\n",
       "      <th>sex<\/th>\n",
       "    <\/tr>\n",
       "  <\/thead>\n",
       "  <tbody>\n",
       "    <tr>\n",
       "      <th>count<\/th>\n",
       "      <td>344<\/td>\n",
       "      <td>344<\/td>\n",
       "      <td>342.000000<\/td>\n",
       "      <td>342.000000<\/td>\n",
       "      <td>342.000000<\/td>\n",
       "      <td>342.000000<\/td>\n",
       "      <td>333<\/td>\n",
       "    <\/tr>\n",
       "    <tr>\n",
       "      <th>unique<\/th>\n",
       "      <td>3<\/td>\n",
       "      <td>3<\/td>\n",
       "      <td>NaN<\/td>\n",
       "      <td>NaN<\/td>\n",
       "      <td>NaN<\/td>\n",
       "      <td>NaN<\/td>\n",
       "      <td>2<\/td>\n",
       "    <\/tr>\n",
       "    <tr>\n",
       "      <th>top<\/th>\n",
       "      <td>Adelie<\/td>\n",
       "      <td>Biscoe<\/td>\n",
       "      <td>NaN<\/td>\n",
       "      <td>NaN<\/td>\n",
       "      <td>NaN<\/td>\n",
       "      <td>NaN<\/td>\n",
       "      <td>MALE<\/td>\n",
       "    <\/tr>\n",
       "    <tr>\n",
       "      <th>freq<\/th>\n",
       "      <td>152<\/td>\n",
       "      <td>168<\/td>\n",
       "      <td>NaN<\/td>\n",
       "      <td>NaN<\/td>\n",
       "      <td>NaN<\/td>\n",
       "      <td>NaN<\/td>\n",
       "      <td>168<\/td>\n",
       "    <\/tr>\n",
       "    <tr>\n",
       "      <th>mean<\/th>\n",
       "      <td>NaN<\/td>\n",
       "      <td>NaN<\/td>\n",
       "      <td>43.921930<\/td>\n",
       "      <td>17.151170<\/td>\n",
       "      <td>200.915205<\/td>\n",
       "      <td>4201.754386<\/td>\n",
       "      <td>NaN<\/td>\n",
       "    <\/tr>\n",
       "    <tr>\n",
       "      <th>std<\/th>\n",
       "      <td>NaN<\/td>\n",
       "      <td>NaN<\/td>\n",
       "      <td>5.459584<\/td>\n",
       "      <td>1.974793<\/td>\n",
       "      <td>14.061714<\/td>\n",
       "      <td>801.954536<\/td>\n",
       "      <td>NaN<\/td>\n",
       "    <\/tr>\n",
       "    <tr>\n",
       "      <th>min<\/th>\n",
       "      <td>NaN<\/td>\n",
       "      <td>NaN<\/td>\n",
       "      <td>32.100000<\/td>\n",
       "      <td>13.100000<\/td>\n",
       "      <td>172.000000<\/td>\n",
       "      <td>2700.000000<\/td>\n",
       "      <td>NaN<\/td>\n",
       "    <\/tr>\n",
       "    <tr>\n",
       "      <th>25%<\/th>\n",
       "      <td>NaN<\/td>\n",
       "      <td>NaN<\/td>\n",
       "      <td>39.225000<\/td>\n",
       "      <td>15.600000<\/td>\n",
       "      <td>190.000000<\/td>\n",
       "      <td>3550.000000<\/td>\n",
       "      <td>NaN<\/td>\n",
       "    <\/tr>\n",
       "    <tr>\n",
       "      <th>50%<\/th>\n",
       "      <td>NaN<\/td>\n",
       "      <td>NaN<\/td>\n",
       "      <td>44.450000<\/td>\n",
       "      <td>17.300000<\/td>\n",
       "      <td>197.000000<\/td>\n",
       "      <td>4050.000000<\/td>\n",
       "      <td>NaN<\/td>\n",
       "    <\/tr>\n",
       "    <tr>\n",
       "      <th>75%<\/th>\n",
       "      <td>NaN<\/td>\n",
       "      <td>NaN<\/td>\n",
       "      <td>48.500000<\/td>\n",
       "      <td>18.700000<\/td>\n",
       "      <td>213.000000<\/td>\n",
       "      <td>4750.000000<\/td>\n",
       "      <td>NaN<\/td>\n",
       "    <\/tr>\n",
       "    <tr>\n",
       "      <th>max<\/th>\n",
       "      <td>NaN<\/td>\n",
       "      <td>NaN<\/td>\n",
       "      <td>59.600000<\/td>\n",
       "      <td>21.500000<\/td>\n",
       "      <td>231.000000<\/td>\n",
       "      <td>6300.000000<\/td>\n",
       "      <td>NaN<\/td>\n",
       "    <\/tr>\n",
       "  <\/tbody>\n",
       "<\/table>\n",
       "<\/div>"
      ]
     },
     "metadata":{
      
     },
     "output_type":"display_data"
    }
   ],
   "metadata":{
    "datalore":{
     "node_id":"sK6OxMaXR02zYY1MWbOpCV",
     "type":"CODE",
     "hide_input_from_viewers":true,
     "hide_output_from_viewers":true
    }
   }
  },
  {
   "cell_type":"code",
   "source":[
    "# average, mean\n",
    "penguins['bill_length_mm'].mean()"
   ],
   "execution_count":19,
   "outputs":[
    {
     "data":{
      "text\/plain":[
       "43.9219298245614"
      ]
     },
     "metadata":{
      
     },
     "output_type":"display_data"
    }
   ],
   "metadata":{
    "datalore":{
     "node_id":"Q5qPTmb93g6G9PWmBaJRQo",
     "type":"CODE",
     "hide_input_from_viewers":true,
     "hide_output_from_viewers":true
    }
   }
  },
  {
   "cell_type":"code",
   "source":[
    "penguins['bill_length_mm'].std()"
   ],
   "execution_count":20,
   "outputs":[
    {
     "data":{
      "text\/plain":[
       "5.4595837139265315"
      ]
     },
     "metadata":{
      
     },
     "output_type":"display_data"
    }
   ],
   "metadata":{
    "datalore":{
     "node_id":"VUqothYNgPLk0NF1Pclryq",
     "type":"CODE",
     "hide_input_from_viewers":true,
     "hide_output_from_viewers":true
    }
   }
  },
  {
   "cell_type":"code",
   "source":[
    "penguins['bill_length_mm'].median()"
   ],
   "execution_count":21,
   "outputs":[
    {
     "data":{
      "text\/plain":[
       "44.45"
      ]
     },
     "metadata":{
      
     },
     "output_type":"display_data"
    }
   ],
   "metadata":{
    "datalore":{
     "node_id":"DLY6fZrcdFHtnneHnoInoc",
     "type":"CODE",
     "hide_input_from_viewers":true,
     "hide_output_from_viewers":true
    }
   }
  },
  {
   "cell_type":"code",
   "source":[
    "# group by + sum \/ mean\n",
    "# penguins[ penguins['species'] == 'Adelie']['bill_length_mm'].mean()\n",
    "\n",
    "penguins.groupby('species')['bill_length_mm'].mean()"
   ],
   "execution_count":26,
   "outputs":[
    {
     "data":{
      "text\/html":[
       "<pre>species\n",
       "Adelie       38.791391\n",
       "Chinstrap    48.833824\n",
       "Gentoo       47.504878\n",
       "Name: bill_length_mm, dtype: float64<\/pre>"
      ]
     },
     "metadata":{
      
     },
     "output_type":"display_data"
    }
   ],
   "metadata":{
    "datalore":{
     "node_id":"emGCsyhU2oe7x2zWznH7tU",
     "type":"CODE",
     "hide_input_from_viewers":true,
     "hide_output_from_viewers":true
    }
   }
  },
  {
   "cell_type":"code",
   "source":[
    "penguins.groupby('species')['bill_length_mm'].agg(['min','max','mean','median','std'])"
   ],
   "execution_count":28,
   "outputs":[
    {
     "data":{
      "text\/html":[
       "<div>\n",
       "<style scoped>\n",
       "    .dataframe tbody tr th:only-of-type {\n",
       "        vertical-align: middle;\n",
       "    }\n",
       "\n",
       "    .dataframe tbody tr th {\n",
       "        vertical-align: top;\n",
       "    }\n",
       "\n",
       "    .dataframe thead th {\n",
       "        text-align: right;\n",
       "    }\n",
       "<\/style>\n",
       "<table border=\"1\" class=\"dataframe\">\n",
       "  <thead>\n",
       "    <tr style=\"text-align: right;\">\n",
       "      <th><\/th>\n",
       "      <th>min<\/th>\n",
       "      <th>max<\/th>\n",
       "      <th>mean<\/th>\n",
       "      <th>median<\/th>\n",
       "      <th>std<\/th>\n",
       "    <\/tr>\n",
       "    <tr>\n",
       "      <th>species<\/th>\n",
       "      <th><\/th>\n",
       "      <th><\/th>\n",
       "      <th><\/th>\n",
       "      <th><\/th>\n",
       "      <th><\/th>\n",
       "    <\/tr>\n",
       "  <\/thead>\n",
       "  <tbody>\n",
       "    <tr>\n",
       "      <th>Adelie<\/th>\n",
       "      <td>32.1<\/td>\n",
       "      <td>46.0<\/td>\n",
       "      <td>38.791391<\/td>\n",
       "      <td>38.80<\/td>\n",
       "      <td>2.663405<\/td>\n",
       "    <\/tr>\n",
       "    <tr>\n",
       "      <th>Chinstrap<\/th>\n",
       "      <td>40.9<\/td>\n",
       "      <td>58.0<\/td>\n",
       "      <td>48.833824<\/td>\n",
       "      <td>49.55<\/td>\n",
       "      <td>3.339256<\/td>\n",
       "    <\/tr>\n",
       "    <tr>\n",
       "      <th>Gentoo<\/th>\n",
       "      <td>40.9<\/td>\n",
       "      <td>59.6<\/td>\n",
       "      <td>47.504878<\/td>\n",
       "      <td>47.30<\/td>\n",
       "      <td>3.081857<\/td>\n",
       "    <\/tr>\n",
       "  <\/tbody>\n",
       "<\/table>\n",
       "<\/div>"
      ]
     },
     "metadata":{
      
     },
     "output_type":"display_data"
    }
   ],
   "metadata":{
    "datalore":{
     "node_id":"fdfMgnPSWmqjNzGV4e1xQj",
     "type":"CODE",
     "hide_input_from_viewers":true,
     "hide_output_from_viewers":true
    }
   }
  },
  {
   "cell_type":"code",
   "source":[
    "# group by more than one columns\n",
    "result = penguins.groupby(['island', 'species'])['bill_length_mm'].agg(['min', 'max', 'mean']).reset_index()\n",
    "result.to_csv('result.csv')"
   ],
   "execution_count":29,
   "outputs":[
    
   ],
   "metadata":{
    "datalore":{
     "node_id":"OJI6rbg4XXtkxBLHBOHugN",
     "type":"CODE",
     "hide_input_from_viewers":true,
     "hide_output_from_viewers":true
    }
   }
  },
  {
   "cell_type":"markdown",
   "source":[
    "# Numpy"
   ],
   "attachments":{
    
   },
   "metadata":{
    "datalore":{
     "node_id":"Numpy",
     "type":"MD",
     "hide_input_from_viewers":false,
     "hide_output_from_viewers":false,
     "sheet_delimiter":true
    }
   }
  },
  {
   "cell_type":"code",
   "source":[
    "# numpy : Numerical Python\n",
    "import numpy as np"
   ],
   "execution_count":16,
   "outputs":[
    
   ],
   "metadata":{
    "datalore":{
     "node_id":"NqD9Efb4fqkkIGZSS3PUvI",
     "type":"CODE",
     "hide_input_from_viewers":true,
     "hide_output_from_viewers":true
    }
   }
  },
  {
   "cell_type":"code",
   "source":[
    "score = pd.Series([80, 55, 62 ,95 ,20])"
   ],
   "execution_count":17,
   "outputs":[
    
   ],
   "metadata":{
    "datalore":{
     "node_id":"i8pofiSM1QTl75rf9hiNiZ",
     "type":"CODE",
     "hide_input_from_viewers":true,
     "hide_output_from_viewers":true
    }
   }
  },
  {
   "cell_type":"code",
   "source":[
    "grade = np.where(score >= 80, 'passed', 'failed')\n",
    "print(grade)"
   ],
   "execution_count":18,
   "outputs":[
    {
     "name":"stdout",
     "text":[
      "['passed' 'failed' 'failed' 'passed' 'failed']\n"
     ],
     "output_type":"stream"
    }
   ],
   "metadata":{
    "datalore":{
     "node_id":"OwokcVujyDgfom3VrkFoZQ",
     "type":"CODE",
     "hide_input_from_viewers":true,
     "hide_output_from_viewers":true
    }
   }
  },
  {
   "cell_type":"code",
   "source":[
    "penguins.head()"
   ],
   "execution_count":20,
   "outputs":[
    {
     "data":{
      "text\/html":[
       "<div>\n",
       "<style scoped>\n",
       "    .dataframe tbody tr th:only-of-type {\n",
       "        vertical-align: middle;\n",
       "    }\n",
       "\n",
       "    .dataframe tbody tr th {\n",
       "        vertical-align: top;\n",
       "    }\n",
       "\n",
       "    .dataframe thead th {\n",
       "        text-align: right;\n",
       "    }\n",
       "<\/style>\n",
       "<table border=\"1\" class=\"dataframe\">\n",
       "  <thead>\n",
       "    <tr style=\"text-align: right;\">\n",
       "      <th><\/th>\n",
       "      <th>species<\/th>\n",
       "      <th>island<\/th>\n",
       "      <th>bill_length_mm<\/th>\n",
       "      <th>bill_depth_mm<\/th>\n",
       "      <th>flipper_length_mm<\/th>\n",
       "      <th>body_mass_g<\/th>\n",
       "      <th>sex<\/th>\n",
       "      <th>sex_new<\/th>\n",
       "    <\/tr>\n",
       "  <\/thead>\n",
       "  <tbody>\n",
       "    <tr>\n",
       "      <th>0<\/th>\n",
       "      <td>Adelie<\/td>\n",
       "      <td>Torgersen<\/td>\n",
       "      <td>39.1<\/td>\n",
       "      <td>18.7<\/td>\n",
       "      <td>181.0<\/td>\n",
       "      <td>3750.0<\/td>\n",
       "      <td>MALE<\/td>\n",
       "      <td>m<\/td>\n",
       "    <\/tr>\n",
       "    <tr>\n",
       "      <th>1<\/th>\n",
       "      <td>Adelie<\/td>\n",
       "      <td>Torgersen<\/td>\n",
       "      <td>39.5<\/td>\n",
       "      <td>17.4<\/td>\n",
       "      <td>186.0<\/td>\n",
       "      <td>3800.0<\/td>\n",
       "      <td>FEMALE<\/td>\n",
       "      <td>f<\/td>\n",
       "    <\/tr>\n",
       "    <tr>\n",
       "      <th>2<\/th>\n",
       "      <td>Adelie<\/td>\n",
       "      <td>Torgersen<\/td>\n",
       "      <td>40.3<\/td>\n",
       "      <td>18.0<\/td>\n",
       "      <td>195.0<\/td>\n",
       "      <td>3250.0<\/td>\n",
       "      <td>FEMALE<\/td>\n",
       "      <td>f<\/td>\n",
       "    <\/tr>\n",
       "    <tr>\n",
       "      <th>3<\/th>\n",
       "      <td>Adelie<\/td>\n",
       "      <td>Torgersen<\/td>\n",
       "      <td>NaN<\/td>\n",
       "      <td>NaN<\/td>\n",
       "      <td>NaN<\/td>\n",
       "      <td>NaN<\/td>\n",
       "      <td>NaN<\/td>\n",
       "      <td>other<\/td>\n",
       "    <\/tr>\n",
       "    <tr>\n",
       "      <th>4<\/th>\n",
       "      <td>Adelie<\/td>\n",
       "      <td>Torgersen<\/td>\n",
       "      <td>36.7<\/td>\n",
       "      <td>19.3<\/td>\n",
       "      <td>193.0<\/td>\n",
       "      <td>3450.0<\/td>\n",
       "      <td>FEMALE<\/td>\n",
       "      <td>f<\/td>\n",
       "    <\/tr>\n",
       "  <\/tbody>\n",
       "<\/table>\n",
       "<\/div>"
      ]
     },
     "metadata":{
      
     },
     "output_type":"display_data"
    }
   ],
   "metadata":{
    "datalore":{
     "node_id":"qCe6Cfrv8PTz81FNj5BeaY",
     "type":"CODE",
     "hide_input_from_viewers":true,
     "hide_output_from_viewers":true
    }
   }
  },
  {
   "cell_type":"code",
   "source":[
    "df = penguins.query(\"species == 'Adele'\")[['species','island','bill_length_mm']]"
   ],
   "execution_count":29,
   "outputs":[
    
   ],
   "metadata":{
    "datalore":{
     "node_id":"D7cyR92V0KxRzwG3DdrB10",
     "type":"CODE",
     "hide_input_from_viewers":true,
     "hide_output_from_viewers":true
    }
   }
  },
  {
   "cell_type":"code",
   "source":[
    "df.head()"
   ],
   "execution_count":30,
   "outputs":[
    {
     "data":{
      "text\/html":[
       "<div>\n",
       "<style scoped>\n",
       "    .dataframe tbody tr th:only-of-type {\n",
       "        vertical-align: middle;\n",
       "    }\n",
       "\n",
       "    .dataframe tbody tr th {\n",
       "        vertical-align: top;\n",
       "    }\n",
       "\n",
       "    .dataframe thead th {\n",
       "        text-align: right;\n",
       "    }\n",
       "<\/style>\n",
       "<table border=\"1\" class=\"dataframe\">\n",
       "  <thead>\n",
       "    <tr style=\"text-align: right;\">\n",
       "      <th><\/th>\n",
       "      <th>species<\/th>\n",
       "      <th>island<\/th>\n",
       "      <th>bill_length_mm<\/th>\n",
       "    <\/tr>\n",
       "  <\/thead>\n",
       "  <tbody>\n",
       "  <\/tbody>\n",
       "<\/table>\n",
       "<\/div>"
      ]
     },
     "metadata":{
      
     },
     "output_type":"display_data"
    }
   ],
   "metadata":{
    "datalore":{
     "node_id":"tlVUdbPC2QNEvAxzB8pA7W",
     "type":"CODE",
     "hide_input_from_viewers":true,
     "hide_output_from_viewers":true
    }
   }
  },
  {
   "cell_type":"code",
   "source":[
    "df['new_column'] = np.where(df['bill_length_mm']>40, True, False)"
   ],
   "execution_count":31,
   "outputs":[
    
   ],
   "metadata":{
    "datalore":{
     "node_id":"VgpLfiN1HY1mH7OwFpOU5P",
     "type":"CODE",
     "hide_input_from_viewers":true,
     "hide_output_from_viewers":true
    }
   }
  },
  {
   "cell_type":"code",
   "source":[
    "df.head(10)"
   ],
   "execution_count":32,
   "outputs":[
    {
     "data":{
      "text\/html":[
       "<div>\n",
       "<style scoped>\n",
       "    .dataframe tbody tr th:only-of-type {\n",
       "        vertical-align: middle;\n",
       "    }\n",
       "\n",
       "    .dataframe tbody tr th {\n",
       "        vertical-align: top;\n",
       "    }\n",
       "\n",
       "    .dataframe thead th {\n",
       "        text-align: right;\n",
       "    }\n",
       "<\/style>\n",
       "<table border=\"1\" class=\"dataframe\">\n",
       "  <thead>\n",
       "    <tr style=\"text-align: right;\">\n",
       "      <th><\/th>\n",
       "      <th>species<\/th>\n",
       "      <th>island<\/th>\n",
       "      <th>bill_length_mm<\/th>\n",
       "      <th>new_column<\/th>\n",
       "    <\/tr>\n",
       "  <\/thead>\n",
       "  <tbody>\n",
       "  <\/tbody>\n",
       "<\/table>\n",
       "<\/div>"
      ]
     },
     "metadata":{
      
     },
     "output_type":"display_data"
    }
   ],
   "metadata":{
    "datalore":{
     "node_id":"RtGwBZxHmFdpQBGbCjB6r8",
     "type":"CODE",
     "hide_input_from_viewers":true,
     "hide_output_from_viewers":true
    }
   }
  },
  {
   "cell_type":"code",
   "source":[
    "# histogram 1 column\n",
    "penguins['body_mass_g'].plot(kind='hist');"
   ],
   "execution_count":35,
   "outputs":[
    {
     "data":{
      "image\/png":"[encoded data removed]"
     },
     "metadata":{
      "image\/png":{
       
      }
     },
     "output_type":"display_data"
    }
   ],
   "metadata":{
    "datalore":{
     "node_id":"dHwr4W519ZUpuBkGHAjJlR",
     "type":"CODE",
     "hide_input_from_viewers":true,
     "hide_output_from_viewers":true
    }
   }
  },
  {
   "cell_type":"code",
   "source":[
    "# histogram 2 columns\n",
    "penguins[['body_mass_g','bill_length_mm']].plot(kind='hist', bins=30);"
   ],
   "execution_count":39,
   "outputs":[
    {
     "data":{
      "image\/png":"[encoded data removed]"
     },
     "metadata":{
      "image\/png":{
       
      }
     },
     "output_type":"display_data"
    }
   ],
   "metadata":{
    "datalore":{
     "node_id":"eQHOQoafRniQGaLc2ME09D",
     "type":"CODE",
     "hide_input_from_viewers":true,
     "hide_output_from_viewers":true
    }
   }
  },
  {
   "cell_type":"code",
   "source":[
    "penguins['bill_length_mm'].plot(kind='hist', bins=30, color=\"orange\");"
   ],
   "execution_count":41,
   "outputs":[
    {
     "data":{
      "image\/png":"[encoded data removed]"
     },
     "metadata":{
      "image\/png":{
       
      }
     },
     "output_type":"display_data"
    }
   ],
   "metadata":{
    "datalore":{
     "node_id":"y0DSVwxZS6dsW4UXMGHw1I",
     "type":"CODE",
     "hide_input_from_viewers":true,
     "hide_output_from_viewers":true
    }
   }
  },
  {
   "cell_type":"code",
   "source":[
    "# bar plot for species\n",
    "penguins['species'].value_counts().plot(kind='bar', color=['salmon','orange','gold'])"
   ],
   "execution_count":46,
   "outputs":[
    {
     "data":{
      "text\/plain":[
       "<AxesSubplot:>"
      ]
     },
     "metadata":{
      
     },
     "output_type":"display_data"
    },
    {
     "data":{
      "image\/png":"[encoded data removed]"
     },
     "metadata":{
      "image\/png":{
       
      }
     },
     "output_type":"display_data"
    }
   ],
   "metadata":{
    "datalore":{
     "node_id":"5cO83T1BZDpMWExZtTEqGa",
     "type":"CODE",
     "hide_input_from_viewers":true,
     "hide_output_from_viewers":true
    }
   }
  },
  {
   "cell_type":"code",
   "source":[
    "# scatter plot\n",
    "penguins[['bill_length_mm', 'bill_depth_mm']]\\\n",
    "    .plot(x='bill_length_mm', y='bill_depth_mm', kind='scatter', color='orange')"
   ],
   "execution_count":50,
   "outputs":[
    {
     "data":{
      "text\/plain":[
       "<AxesSubplot:xlabel='bill_length_mm', ylabel='bill_depth_mm'>"
      ]
     },
     "metadata":{
      
     },
     "output_type":"display_data"
    },
    {
     "data":{
      "image\/png":"[encoded data removed]"
     },
     "metadata":{
      "image\/png":{
       
      }
     },
     "output_type":"display_data"
    }
   ],
   "metadata":{
    "datalore":{
     "node_id":"Ljy92zQcEeVrGg1yLiuqDh",
     "type":"CODE",
     "hide_input_from_viewers":true,
     "hide_output_from_viewers":true
    }
   }
  },
  {
   "cell_type":"code",
   "source":[
    "penguins"
   ],
   "execution_count":51,
   "outputs":[
    {
     "data":{
      "text\/html":[
       "<div>\n",
       "<style scoped>\n",
       "    .dataframe tbody tr th:only-of-type {\n",
       "        vertical-align: middle;\n",
       "    }\n",
       "\n",
       "    .dataframe tbody tr th {\n",
       "        vertical-align: top;\n",
       "    }\n",
       "\n",
       "    .dataframe thead th {\n",
       "        text-align: right;\n",
       "    }\n",
       "<\/style>\n",
       "<table border=\"1\" class=\"dataframe\">\n",
       "  <thead>\n",
       "    <tr style=\"text-align: right;\">\n",
       "      <th><\/th>\n",
       "      <th>species<\/th>\n",
       "      <th>island<\/th>\n",
       "      <th>bill_length_mm<\/th>\n",
       "      <th>bill_depth_mm<\/th>\n",
       "      <th>flipper_length_mm<\/th>\n",
       "      <th>body_mass_g<\/th>\n",
       "      <th>sex<\/th>\n",
       "      <th>sex_new<\/th>\n",
       "    <\/tr>\n",
       "  <\/thead>\n",
       "  <tbody>\n",
       "    <tr>\n",
       "      <th>0<\/th>\n",
       "      <td>Adelie<\/td>\n",
       "      <td>Torgersen<\/td>\n",
       "      <td>39.1<\/td>\n",
       "      <td>18.7<\/td>\n",
       "      <td>181.0<\/td>\n",
       "      <td>3750.0<\/td>\n",
       "      <td>MALE<\/td>\n",
       "      <td>m<\/td>\n",
       "    <\/tr>\n",
       "    <tr>\n",
       "      <th>1<\/th>\n",
       "      <td>Adelie<\/td>\n",
       "      <td>Torgersen<\/td>\n",
       "      <td>39.5<\/td>\n",
       "      <td>17.4<\/td>\n",
       "      <td>186.0<\/td>\n",
       "      <td>3800.0<\/td>\n",
       "      <td>FEMALE<\/td>\n",
       "      <td>f<\/td>\n",
       "    <\/tr>\n",
       "    <tr>\n",
       "      <th>2<\/th>\n",
       "      <td>Adelie<\/td>\n",
       "      <td>Torgersen<\/td>\n",
       "      <td>40.3<\/td>\n",
       "      <td>18.0<\/td>\n",
       "      <td>195.0<\/td>\n",
       "      <td>3250.0<\/td>\n",
       "      <td>FEMALE<\/td>\n",
       "      <td>f<\/td>\n",
       "    <\/tr>\n",
       "    <tr>\n",
       "      <th>3<\/th>\n",
       "      <td>Adelie<\/td>\n",
       "      <td>Torgersen<\/td>\n",
       "      <td>NaN<\/td>\n",
       "      <td>NaN<\/td>\n",
       "      <td>NaN<\/td>\n",
       "      <td>NaN<\/td>\n",
       "      <td>NaN<\/td>\n",
       "      <td>other<\/td>\n",
       "    <\/tr>\n",
       "    <tr>\n",
       "      <th>4<\/th>\n",
       "      <td>Adelie<\/td>\n",
       "      <td>Torgersen<\/td>\n",
       "      <td>36.7<\/td>\n",
       "      <td>19.3<\/td>\n",
       "      <td>193.0<\/td>\n",
       "      <td>3450.0<\/td>\n",
       "      <td>FEMALE<\/td>\n",
       "      <td>f<\/td>\n",
       "    <\/tr>\n",
       "    <tr>\n",
       "      <th>...<\/th>\n",
       "      <td>...<\/td>\n",
       "      <td>...<\/td>\n",
       "      <td>...<\/td>\n",
       "      <td>...<\/td>\n",
       "      <td>...<\/td>\n",
       "      <td>...<\/td>\n",
       "      <td>...<\/td>\n",
       "      <td>...<\/td>\n",
       "    <\/tr>\n",
       "    <tr>\n",
       "      <th>339<\/th>\n",
       "      <td>Gentoo<\/td>\n",
       "      <td>Biscoe<\/td>\n",
       "      <td>NaN<\/td>\n",
       "      <td>NaN<\/td>\n",
       "      <td>NaN<\/td>\n",
       "      <td>NaN<\/td>\n",
       "      <td>NaN<\/td>\n",
       "      <td>other<\/td>\n",
       "    <\/tr>\n",
       "    <tr>\n",
       "      <th>340<\/th>\n",
       "      <td>Gentoo<\/td>\n",
       "      <td>Biscoe<\/td>\n",
       "      <td>46.8<\/td>\n",
       "      <td>14.3<\/td>\n",
       "      <td>215.0<\/td>\n",
       "      <td>4850.0<\/td>\n",
       "      <td>FEMALE<\/td>\n",
       "      <td>f<\/td>\n",
       "    <\/tr>\n",
       "    <tr>\n",
       "      <th>341<\/th>\n",
       "      <td>Gentoo<\/td>\n",
       "      <td>Biscoe<\/td>\n",
       "      <td>50.4<\/td>\n",
       "      <td>15.7<\/td>\n",
       "      <td>222.0<\/td>\n",
       "      <td>5750.0<\/td>\n",
       "      <td>MALE<\/td>\n",
       "      <td>m<\/td>\n",
       "    <\/tr>\n",
       "    <tr>\n",
       "      <th>342<\/th>\n",
       "      <td>Gentoo<\/td>\n",
       "      <td>Biscoe<\/td>\n",
       "      <td>45.2<\/td>\n",
       "      <td>14.8<\/td>\n",
       "      <td>212.0<\/td>\n",
       "      <td>5200.0<\/td>\n",
       "      <td>FEMALE<\/td>\n",
       "      <td>f<\/td>\n",
       "    <\/tr>\n",
       "    <tr>\n",
       "      <th>343<\/th>\n",
       "      <td>Gentoo<\/td>\n",
       "      <td>Biscoe<\/td>\n",
       "      <td>49.9<\/td>\n",
       "      <td>16.1<\/td>\n",
       "      <td>213.0<\/td>\n",
       "      <td>5400.0<\/td>\n",
       "      <td>MALE<\/td>\n",
       "      <td>m<\/td>\n",
       "    <\/tr>\n",
       "  <\/tbody>\n",
       "<\/table>\n",
       "<p>344 rows × 8 columns<\/p>\n",
       "<\/div>"
      ]
     },
     "metadata":{
      
     },
     "output_type":"display_data"
    }
   ],
   "metadata":{
    "datalore":{
     "node_id":"JqjeOSkR3m15kF4pDCcILc",
     "type":"CODE",
     "hide_input_from_viewers":true,
     "hide_output_from_viewers":true
    }
   }
  }
 ],
 "metadata":{
  "kernelspec":{
   "display_name":"Python",
   "language":"python",
   "name":"python"
  },
  "datalore":{
   "computation_mode":"JUPYTER",
   "package_manager":"pip",
   "base_environment":"default",
   "packages":[
    
   ],
   "report_row_ids":[
    "wcwcqM0Rbc3JGV2giMLdI9",
    "9EJY440U49cZIArCNMm6Aa",
    "tOzKX5wV9frSQ3VDFhvtI7",
    "OC55W0WJJEZqlMm8tN7iRz",
    "tt0TwsTmXNkFAj1PPnyTyB",
    "G6MR7XcDpCbM0WmaffHXVE",
    "YAzWk50c5mTn7XGosc9IEJ",
    "bCfphqPqC7zl6G6BPonrFg",
    "oiFdGDooOR8EBSJ6779Gdj",
    "q9P8fDo1Yccy43B4HPA2ap",
    "kQt0JwsolgVCA1YAaXGW1l",
    "W7W8LteLmQ9TuxWdH2D2Cv",
    "HDVhPB7V4O7ozGaHwD4SF1",
    "0xsT9QoQV1FRZL9DwLjn9P",
    "giy06vHR1iA6auQBQ8ie2s",
    "tdOBobvfiUAiXrQVwTr9st",
    "DOnKODohyOPwgsrBQmet8Y",
    "NF6cFhZngZeBOT3p7nnAPn",
    "yqxi8kVw9vny50sMDouT7R",
    "92QSst5k2IV9IOSea19H0B",
    "5yNOBXy7ZPZlI4Ea1zX4ik"
   ],
   "version":3
  }
 },
 "nbformat":4,
 "nbformat_minor":4
}