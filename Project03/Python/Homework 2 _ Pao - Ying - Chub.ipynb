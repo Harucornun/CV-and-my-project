{
 "cells":[
  {
   "cell_type":"code",
   "source":[
    "##HW 2 : Pao - Ying - Chub game\n",
    "\n",
    "pyc <- function() {\n",
    "  print(\"Welcome to play Pao-Ying-Chub game\")\n",
    "  print(\"Instruction for playing Pao-Ying-Chub game\")\n",
    "  print(\"🔨 Type H for Hammer\")\n",
    "  print(\"✂️ Type S for Scissors\")\n",
    "  print(\"📄 Type P for Paper\")\n",
    "  print(\"If you type 'exit' for quit the game.\")\n",
    "  print(\"--------------------------------------------------\")\n",
    "  options <- c(\"H\", \"S\", \"P\")\n",
    "  turns <- 0\n",
    "  score <- 0\n",
    "  tie <- 0\n",
    "  \n",
    "  while (TRUE) {\n",
    "    robot <- sample(options, 1) \n",
    "    user <- readline(\"Your turn choose: \")\n",
    "    \n",
    "    if (toupper(user) == \"EXIT\") {\n",
    "      print(\"Thank you for playing Pao-Ying-Chub game.\")\n",
    "      print(\"--------------------------------------------------\")\n",
    "      print(\"## Score Summary ##\")\n",
    "      print(paste(\"Total Turns:\", turns))\n",
    "      print(paste(\"Total Tie Turns:\", tie))\n",
    "      print(paste(\"Your Winning Turns (Score):\", score))\n",
    "      if (turns != 0) {\n",
    "        win_rate <- round((score\/(turns-tie)) * 100, 2)\n",
    "        print(paste(\"Your Win Rate is\", win_rate, \"%\"))\n",
    "      } else {\n",
    "        print(\"Your Win Rate is ERROR!\") \n",
    "      }        \n",
    "      break          \n",
    "    } \n",
    "    \n",
    "    else if (toupper(user) != \"H\" & toupper(user) != \"S\" & toupper(user) != \"P\" & toupper(user) != \"exit\") {\n",
    "      print(\"Please type only 'H', 'S', or 'P'\")\n",
    "    } \n",
    "    \n",
    "    else {\n",
    "      print(paste(\"Robot Chooses:\", robot))\n",
    "      if ((toupper(user) == \"H\" & toupper(robot) == \"S\") | (toupper(user) == \"S\" & toupper(robot) == \"P\") | (toupper(user) == \"P\" & toupper(robot) == \"H\")) {\n",
    "        turns <- turns + 1\n",
    "        score <- score + 1\n",
    "        tie <- tie + 0\n",
    "        print(\"Congratulation you won this round!\") \n",
    "      } else if (toupper(user) == toupper(robot)) {\n",
    "        turns <- turns + 1\n",
    "        score <- score + 0\n",
    "        tie <- tie + 1\n",
    "        print(\"Draw, challenge more please\")\n",
    "      } else {\n",
    "        turns <- turns + 1\n",
    "        score <- score + 0\n",
    "        tie <- tie + 0\n",
    "        print(\"Sorry na ja, today is not your day\")\n",
    "      }\n",
    "    } \n",
    "  }\n",
    "}\n",
    "\n",
    "pyc()"
   ],
   "execution_count":2,
   "outputs":[
    {
     "name":"stdout",
     "text":[
      "Your turn choose:  H\n",
      "Your turn choose:  S\n",
      "Your turn choose:  exit\n",
      "[1] \"Welcome to play Pao-Ying-Chub game\"\n",
      "[1] \"Instruction for playing Pao-Ying-Chub game\"\n",
      "[1] \"🔨 Type H for Hammer\"\n",
      "[1] \"✂️ Type S for Scissors\"\n",
      "[1] \"📄 Type P for Paper\"\n",
      "[1] \"If you type 'exit' for quit the game.\"\n",
      "[1] \"--------------------------------------------------\"\n",
      "[1] \"Robot Chooses: P\"\n",
      "[1] \"Sorry na ja, today is not your day\"\n",
      "[1] \"Robot Chooses: P\"\n",
      "[1] \"Congratulation you won this round!\"\n",
      "[1] \"Thank you for playing Pao-Ying-Chub game.\"\n",
      "[1] \"--------------------------------------------------\"\n",
      "[1] \"## Score Summary ##\"\n",
      "[1] \"Total Turns: 2\"\n",
      "[1] \"Total Tie Turns: 0\"\n",
      "[1] \"Your Winning Turns (Score): 1\"\n",
      "[1] \"Your Win Rate is 50 %\"\n"
     ],
     "output_type":"stream"
    }
   ],
   "metadata":{
    "datalore":{
     "node_id":"vaDVZO1Y0bDFP4DgRJ1CfP",
     "type":"CODE",
     "hide_input_from_viewers":false,
     "hide_output_from_viewers":false,
     "report_properties":{
      "rowId":"Dwdr9er6dzJrlWiM7ssS6X",
      "relativeY":0
     }
    }
   }
  }
 ],
 "metadata":{
  "kernelspec":{
   "display_name":"R",
   "language":"r",
   "name":"ir"
  },
  "datalore":{
   "computation_mode":"JUPYTER",
   "package_manager":"conda",
   "base_environment":"minimal",
   "packages":[
    
   ],
   "report_row_ids":[
    "Dwdr9er6dzJrlWiM7ssS6X"
   ],
   "version":3
  }
 },
 "nbformat":4,
 "nbformat_minor":4
}