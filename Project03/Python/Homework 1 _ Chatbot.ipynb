{
 "cells":[
  {
   "cell_type":"code",
   "source":[
    "## HW1 : Chatbot\n",
    "\n",
    "Chatbot_talk <- function() {\n",
    "  \n",
    "  print (\"Instruction : type 'Y' to exit Chatbot!\")\n",
    "  \n",
    "  \n",
    "  while (TRUE) {\n",
    "    text = readline(\"Want to exit Chatbot Y\/N?: \")\n",
    "    if (text == \"Y\") {\n",
    "      print(\"Thank you for talking with me, have a nice day!\")\n",
    "      break\n",
    "    } \n",
    "    else {\n",
    "      name = readline(\"What's your name?: \")\n",
    "      print(paste(\"Hi\", name))\n",
    "      \n",
    "      age = readline(\"How old are you?: \")\n",
    "      print(paste(\"Your age is\", age , \"years old.\"))\n",
    "      \n",
    "      where_you_come = readline(\"Where are you come from?: \")\n",
    "      print(paste(\"That's a good place\", where_you_come,\"!\"))\n",
    "      \n",
    "      fav_song = readline(\"What's your favorite song?: \")\n",
    "      print(paste(toupper(fav_song), \"that's great song.\"))\n",
    "      \n",
    "      fav_food = readline(\"What's your favorite food?: \")\n",
    "      print(paste(\"Next time let's join together\", fav_food))\n",
    "    }\n",
    "  }\n",
    "}\n",
    "\n",
    "Chatbot_talk()\n",
    "\n"
   ],
   "execution_count":1,
   "outputs":[
    {
     "name":"stdout",
     "text":[
      "Want to exit Chatbot Y\/N?:  N\n",
      "What's your name?:  Bigboss\n",
      "How old are you?:  26\n",
      "Where are you come from?:  BKK\n",
      "What's your favorite song?:  OMG\n",
      "What's your favorite food?:  Tom Yum Goong\n",
      "Want to exit Chatbot Y\/N?:  Y\n",
      "[1] \"Instruction : type 'Y' to exit Chatbot!\"\n",
      "[1] \"Hi Bigboss\"\n",
      "[1] \"Your age is 26 years old.\"\n",
      "[1] \"That's a good place BKK !\"\n",
      "[1] \"OMG that's great song.\"\n",
      "[1] \"Next time let's join together Tom Yum Goong\"\n",
      "[1] \"Thank you for talking with me, have a nice day!\"\n"
     ],
     "output_type":"stream"
    }
   ],
   "metadata":{
    "datalore":{
     "node_id":"1wSwhuaRL9uZzR11VFWDxJ",
     "type":"CODE",
     "hide_input_from_viewers":false,
     "hide_output_from_viewers":false,
     "report_properties":{
      "rowId":"mJjXAkX3G2bwgJnHaRB2lf",
      "x":0,
      "relativeY":0
     }
    }
   }
  }
 ],
 "metadata":{
  "kernelspec":{
   "display_name":"R",
   "language":"r",
   "name":"ir"
  },
  "datalore":{
   "computation_mode":"JUPYTER",
   "package_manager":"conda",
   "base_environment":"minimal",
   "packages":[
    
   ],
   "report_row_ids":[
    "mJjXAkX3G2bwgJnHaRB2lf"
   ],
   "version":3
  }
 },
 "nbformat":4,
 "nbformat_minor":4
}